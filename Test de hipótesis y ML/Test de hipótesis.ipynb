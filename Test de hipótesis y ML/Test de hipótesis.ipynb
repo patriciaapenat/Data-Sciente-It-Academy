{
 "cells": [
  {
   "cell_type": "markdown",
   "id": "d28c7d2e",
   "metadata": {},
   "source": [
    "# Tasca M5 T01"
   ]
  },
  {
   "cell_type": "code",
   "execution_count": 1,
   "id": "2f9d3cb4",
   "metadata": {},
   "outputs": [],
   "source": [
    "import pandas as pd\n",
    "import numpy as np\n",
    "from scipy.stats import shapiro"
   ]
  },
  {
   "cell_type": "markdown",
   "id": "be632e37",
   "metadata": {},
   "source": [
    "## Exercici 1\n",
    "#### Descarrega el dataset adjunt de dades oficials de la UEFA i selecciona un atribut del conjunt de dades. Calcula el p-valor i digues si rebutja la hipòtesi nul·la agafant un alfa de 5%. "
   ]
  },
  {
   "cell_type": "code",
   "execution_count": 2,
   "id": "5aa4d249",
   "metadata": {},
   "outputs": [],
   "source": [
    "df = pd.read_csv(\"C:/Users/Patricia/Downloads/Lligues europees UEFA.csv\", encoding='cp775', sep=';')"
   ]
  },
  {
   "cell_type": "code",
   "execution_count": 3,
   "id": "b3d592b7",
   "metadata": {},
   "outputs": [
    {
     "name": "stdout",
     "output_type": "stream",
     "text": [
      "<class 'pandas.core.frame.DataFrame'>\n",
      "RangeIndex: 98 entries, 0 to 97\n",
      "Data columns (total 21 columns):\n",
      " #   Column           Non-Null Count  Dtype  \n",
      "---  ------           --------------  -----  \n",
      " 0   Rk               98 non-null     int64  \n",
      " 1   Squad            98 non-null     object \n",
      " 2   Country          98 non-null     object \n",
      " 3   LgRk             98 non-null     int64  \n",
      " 4   MP               98 non-null     int64  \n",
      " 5   W                98 non-null     int64  \n",
      " 6   D                98 non-null     int64  \n",
      " 7   L                98 non-null     int64  \n",
      " 8   GF               98 non-null     int64  \n",
      " 9   GA               98 non-null     int64  \n",
      " 10  GD               98 non-null     int64  \n",
      " 11  Pts              98 non-null     int64  \n",
      " 12  Pts/G            98 non-null     float64\n",
      " 13  xG               98 non-null     float64\n",
      " 14  xGA              98 non-null     float64\n",
      " 15  xGD              98 non-null     float64\n",
      " 16  xGD/90           98 non-null     float64\n",
      " 17  Last 5           98 non-null     object \n",
      " 18  Attendance       98 non-null     int64  \n",
      " 19  Top Team Scorer  98 non-null     object \n",
      " 20  Goalkeeper       98 non-null     object \n",
      "dtypes: float64(5), int64(11), object(5)\n",
      "memory usage: 16.2+ KB\n"
     ]
    }
   ],
   "source": [
    "df.info()"
   ]
  },
  {
   "cell_type": "markdown",
   "id": "aa8821f9",
   "metadata": {},
   "source": [
    "Primer hem de revisar el context de dataset perque hi ha moltes sigles desconegudes, aprofitem de fer un diccionari"
   ]
  },
  {
   "cell_type": "code",
   "execution_count": 4,
   "id": "20fc4efa",
   "metadata": {},
   "outputs": [],
   "source": [
    "uefa_dictionary = {\n",
    "    'Rk': \"Posició o classificació de l'equip en una taula o rànquing.\",\n",
    "    'Squad': \"Nom de l'equip.\",\n",
    "    'Country': \"País a què pertany l'equip.\",\n",
    "    'LgRk': \"Posició de l'equip a la seva lliga o competició.\",\n",
    "    'MP': \"Partits jugats per l'equip.\",\n",
    "    'W': \"Número de victòries de l'equip.\",\n",
    "    'D': \"Nombre d'empats de l'equip.\",\n",
    "    'L': \"Número de derrotes de l'equip.\",\n",
    "    'GF': \"Gols a favor de l'equip.\",\n",
    "    'GA': \"Gols contra l'equip.\",\n",
    "    'GD': \"Diferència de gols (GF – GA) de l'equip.\",\n",
    "    'Pts': \"Punts obtinguts per l'equip a la competició.\",\n",
    "    'Pts/G': \"Mitjana de punts per partit jugat.\",\n",
    "    'xG': \"Expected Goals (gols esperats) de l'equip.\",\n",
    "    'xGA': \"Expected Goals Allowed (gols esperats permesos) de l'equip.\",\n",
    "    'xGD': \"Expected Goals Difference (diferència de gols esperats) de l'equip.\",\n",
    "    'xGD/90': \"Expected Goals Difference per 90 minuts (diferència de gols esperats * per 90 minuts) de l'equip.\",\n",
    "    'Last 5': \"Resultats dels darrers 5 partits de l'equip.\",\n",
    "    'Attendance': \"Assistència o nombre d'espectadors als partits de l'equip.\",\n",
    "    'Top Team Scorer': \"Màxim golejador o anotador de l'equip.\",\n",
    "    'Goalkeeper': \"Porter o porter titular de l'equip.\"\n",
    "}"
   ]
  },
  {
   "cell_type": "code",
   "execution_count": 5,
   "id": "01f481f2",
   "metadata": {},
   "outputs": [
    {
     "data": {
      "text/plain": [
       "\"Punts obtinguts per l'equip a la competició.\""
      ]
     },
     "execution_count": 5,
     "metadata": {},
     "output_type": "execute_result"
    }
   ],
   "source": [
    "# Agafem la variable \"Pts\"\n",
    "uefa_dictionary['Pts']"
   ]
  },
  {
   "cell_type": "markdown",
   "id": "fe1527c5",
   "metadata": {},
   "source": [
    "Llavors les nostres hipotesis serien:\n",
    "\n",
    "* Hipòtesi nul·la (H0): No hi ha diferència significativa en els punts mitjana entre els equips de futbol en el dataset \"UEFA\"\n",
    "* Hipòtesi alternativa (H1): Hi ha una diferència significativa en els punts mitjana entre els equips de futbol en el dataset \"UEFA\"\n",
    "\n",
    "Primer hem de fer el test de normalitat, per aquesta variable seria apropiat fer Shapiro Wilk"
   ]
  },
  {
   "cell_type": "code",
   "execution_count": 6,
   "id": "6146a1cf",
   "metadata": {},
   "outputs": [
    {
     "name": "stdout",
     "output_type": "stream",
     "text": [
      "stat=0.972, p=0.035\n",
      "Probablement no Gaussià\n"
     ]
    }
   ],
   "source": [
    "stat, p = shapiro(df['Pts'])\n",
    "print(f'stat={stat:.3f}, p={p:.3f}')\n",
    "\n",
    "if p > 0.05:\n",
    "    print('Probablement Gaussià')\n",
    "else:\n",
    "    print('Probablement no Gaussià')"
   ]
  },
  {
   "cell_type": "markdown",
   "id": "6076729a",
   "metadata": {},
   "source": [
    "Correspondria fer Wilcoxon"
   ]
  },
  {
   "cell_type": "code",
   "execution_count": 7,
   "id": "c820229d",
   "metadata": {},
   "outputs": [
    {
     "name": "stdout",
     "output_type": "stream",
     "text": [
      "Es rebutja la hipotesi nul·la\n"
     ]
    }
   ],
   "source": [
    "from scipy.stats import wilcoxon\n",
    "statistic, p_value = wilcoxon(df['Pts'])\n",
    "alpha = 0.05\n",
    "if p_value > alpha:\n",
    "    print(\"No es rebutja la hipotesi nul·la\")\n",
    "else:\n",
    "    print(\"Es rebutja la hipotesi nul·la\")"
   ]
  },
  {
   "cell_type": "markdown",
   "id": "9606e807",
   "metadata": {},
   "source": [
    "Rebutjar l'hipotesi nul·la vol dirque hi ha una diferencia significativa"
   ]
  },
  {
   "cell_type": "markdown",
   "id": "71cc37ef",
   "metadata": {},
   "source": [
    "## Exercici 2\n",
    "#### Amb el mateix dataset selecciona dos altres atributs del conjunt de dades. Calcula els p-valors i digues si rebutgen la hipòtesi nul·la agafant un alfa de 5%."
   ]
  },
  {
   "cell_type": "code",
   "execution_count": 8,
   "id": "d8c7f7d9",
   "metadata": {},
   "outputs": [
    {
     "name": "stdout",
     "output_type": "stream",
     "text": [
      "GD = Diferència de gols (GF – GA) de l'equip. \n",
      "xGD = Expected Goals Difference (diferència de gols esperats) de l'equip.\n"
     ]
    }
   ],
   "source": [
    "# Ara agafem GD i xGD\n",
    "print('GD =', uefa_dictionary['GD'], '\\nxGD =', uefa_dictionary['xGD'])"
   ]
  },
  {
   "cell_type": "markdown",
   "id": "f50859ce",
   "metadata": {},
   "source": [
    "Llavors les nostres hipotesis serien:\n",
    "* Hipòtesi nul·la (H0): No hi ha diferència significativa en la distribució entre els països representats en el dataset \"uefa\".\n",
    "* Hipòtesi alternativa (H1): Hi ha una diferència significativa en la distribució entre els països representats en el dataset \"uefa\"."
   ]
  },
  {
   "cell_type": "code",
   "execution_count": 9,
   "id": "412d1ada",
   "metadata": {},
   "outputs": [
    {
     "name": "stdout",
     "output_type": "stream",
     "text": [
      "Probablement les dues variables son Gaussianes\n"
     ]
    }
   ],
   "source": [
    "from scipy.stats import shapiro\n",
    "\n",
    "stat1, p_value1 = shapiro(df['GD'])\n",
    "stat2, p_value2 = shapiro(df['xGD'])\n",
    "\n",
    "if p_value1 > 0.05 or p_value2 > 0.05:\n",
    "    print('Probablement les dues variables son Gaussianes')\n",
    "else:\n",
    "    print('Probablement les dues variables no son Gaussianes')"
   ]
  },
  {
   "cell_type": "markdown",
   "id": "699996ba",
   "metadata": {},
   "source": [
    "Llavors hauriem de fer Mann-Whitney"
   ]
  },
  {
   "cell_type": "code",
   "execution_count": 10,
   "id": "c788a936",
   "metadata": {},
   "outputs": [
    {
     "name": "stdout",
     "output_type": "stream",
     "text": [
      "stat=4736.500, p=0.870\n",
      "No es rebutja la hipotesi nul·la\n"
     ]
    }
   ],
   "source": [
    "from scipy.stats import mannwhitneyu\n",
    "stat, p = mannwhitneyu(df['GD'],df['xGD'])\n",
    "print('stat=%.3f, p=%.3f' % (stat, p))\n",
    "if p > 0.05:\n",
    "    print(\"No es rebutja la hipotesi nul·la\")\n",
    "else:\n",
    "    print(\"Es rebutja la hipotesi nul·la\")"
   ]
  },
  {
   "cell_type": "markdown",
   "id": "69e06f64",
   "metadata": {},
   "source": [
    "Quan no es rebutja la hipotesi nul·la diriem que la distribució entre les dues variable no és igual"
   ]
  },
  {
   "cell_type": "markdown",
   "id": "f7a78049",
   "metadata": {},
   "source": [
    "## Exercici 3\n",
    "#### Continua amb el conjunt de dades adjunt i selecciona tres atributs del conjunt de dades. Calcula el p-valor i digues si rebutja la hipòtesi nul·la agafant un alfa de 5%."
   ]
  },
  {
   "cell_type": "code",
   "execution_count": 11,
   "id": "379a2464",
   "metadata": {},
   "outputs": [
    {
     "name": "stdout",
     "output_type": "stream",
     "text": [
      "GD = Diferència de gols (GF – GA) de l'equip. \n",
      "xGD = Expected Goals Difference (diferència de gols esperats) de l'equip. \n",
      "Attendance = Assistència o nombre d'espectadors als partits de l'equip.\n"
     ]
    }
   ],
   "source": [
    "# Agafem les variables GD, xGD i Attendance,\n",
    "print('GD =', uefa_dictionary['GD'], '\\nxGD =', uefa_dictionary['xGD'], '\\nAttendance =', uefa_dictionary['Attendance'] )"
   ]
  },
  {
   "cell_type": "markdown",
   "id": "6dad101f",
   "metadata": {},
   "source": [
    "Les nostres hipotesis serien:\n",
    "* Hipòtesis nul·la (H0): Les mitjanes de 'GD', 'xGD' i 'Attendance' són iguals en tots els grups.\n",
    "* Hipòtesi alternativa (HA): Almenys una de les mitjanes de 'GD', 'xGD' i 'Attendance' difereix entre els grups."
   ]
  },
  {
   "cell_type": "code",
   "execution_count": 12,
   "id": "57bd0b59",
   "metadata": {},
   "outputs": [
    {
     "name": "stdout",
     "output_type": "stream",
     "text": [
      "Probablement les tres variables son Gaussianes\n"
     ]
    }
   ],
   "source": [
    "from scipy.stats import shapiro\n",
    "\n",
    "stat1, p_value1 = shapiro(df['GD'])\n",
    "stat2, p_value2 = shapiro(df['xGD'])\n",
    "stat3, p_value3 = shapiro(df['Attendance'])\n",
    "\n",
    "if p_value1 > 0.05 or p_value2 > 0.05 or p_value3 > 0.05:\n",
    "    print('Probablement les tres variables son Gaussianes')\n",
    "else:\n",
    "    print('Probablement les tres variables no son Gaussianes')"
   ]
  },
  {
   "cell_type": "markdown",
   "id": "53741058",
   "metadata": {},
   "source": [
    "Llavors sabem que correspondria fer un One Way Anova"
   ]
  },
  {
   "cell_type": "code",
   "execution_count": 13,
   "id": "9549901b",
   "metadata": {},
   "outputs": [
    {
     "name": "stdout",
     "output_type": "stream",
     "text": [
      "stat=260.267, p=0.000\n",
      "Es rebutja la hipotesi nul·la\n"
     ]
    }
   ],
   "source": [
    "from scipy.stats import f_oneway\n",
    "\n",
    "stat, p = f_oneway(df['GD'], df['xGD'], df[\"Attendance\"])\n",
    "print('stat=%.3f, p=%.3f' % (stat, p))\n",
    "if p > 0.05:\n",
    "    print(\"No es rebutja la hipotesi nul·la\")\n",
    "else:\n",
    "    print(\"Es rebutja la hipotesi nul·la\")"
   ]
  },
  {
   "cell_type": "markdown",
   "id": "e5aa6853",
   "metadata": {},
   "source": [
    "Llavors diem que almenys una de les mitjanes de 'GD', 'xGD' i 'Attendance' difereix entre els grups."
   ]
  }
 ],
 "metadata": {
  "kernelspec": {
   "display_name": "Python 3 (ipykernel)",
   "language": "python",
   "name": "python3"
  },
  "language_info": {
   "codemirror_mode": {
    "name": "ipython",
    "version": 3
   },
   "file_extension": ".py",
   "mimetype": "text/x-python",
   "name": "python",
   "nbconvert_exporter": "python",
   "pygments_lexer": "ipython3",
   "version": "3.9.13"
  }
 },
 "nbformat": 4,
 "nbformat_minor": 5
}
