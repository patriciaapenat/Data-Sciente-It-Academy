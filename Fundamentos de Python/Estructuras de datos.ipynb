{
 "cells": [
  {
   "cell_type": "markdown",
   "id": "9e39b210",
   "metadata": {},
   "source": [
    "# Tasca M2 T01, Sprint 2"
   ]
  },
  {
   "cell_type": "markdown",
   "id": "4546f35c",
   "metadata": {},
   "source": [
    "## Exercici 1"
   ]
  },
  {
   "cell_type": "markdown",
   "id": "1b1d8f42",
   "metadata": {},
   "source": [
    "##### Crea una llista que agrupi els mesos de l’any en trimestres (1T: gener, febrer i març; 2T: abril, maig, juny...), és a dir, una llista amb 4 llistes dins."
   ]
  },
  {
   "cell_type": "code",
   "execution_count": 2,
   "id": "48db5f51",
   "metadata": {},
   "outputs": [],
   "source": [
    "import numpy as np"
   ]
  },
  {
   "cell_type": "code",
   "execution_count": 3,
   "id": "c3a3ef75",
   "metadata": {},
   "outputs": [],
   "source": [
    "import pandas as pd"
   ]
  },
  {
   "cell_type": "code",
   "execution_count": 8,
   "id": "98280172",
   "metadata": {},
   "outputs": [
    {
     "name": "stdout",
     "output_type": "stream",
     "text": [
      "[['Gener', 'Febrer', 'Març'], ['Abril', 'Maig', 'Juny'], ['Juliol', 'Agost', 'Setembre'], ['Octubre', 'Novembre', 'Desembre']]\n"
     ]
    }
   ],
   "source": [
    "T1 = [\"Gener\", \"Febrer\", \"Març\"]\n",
    "T2 = [\"Abril\", \"Maig\", \"Juny\"]\n",
    "T3 = [\"Juliol\", \"Agost\", \"Setembre\"]\n",
    "T4 = [\"Octubre\", \"Novembre\", \"Desembre\"]\n",
    "\n",
    "trimestres = [T1, T2, T3, T4]\n",
    "\n",
    "print(trimestres)"
   ]
  },
  {
   "cell_type": "markdown",
   "id": "739de2ed",
   "metadata": {},
   "source": [
    "## Exercici 2"
   ]
  },
  {
   "cell_type": "markdown",
   "id": "bd36aac1",
   "metadata": {},
   "source": [
    "##### Crea un codi que et permeti accedir a: El segon mes del primer trimestre, Els mesos del primer trimestre, Setembre i octubre.\n"
   ]
  },
  {
   "cell_type": "markdown",
   "id": "92cd5333",
   "metadata": {},
   "source": [
    "##### Crea un codi que et permeti accedir a"
   ]
  },
  {
   "cell_type": "markdown",
   "id": "2ae884d5",
   "metadata": {},
   "source": [
    "    1- El segon mes del primer trimestre"
   ]
  },
  {
   "cell_type": "code",
   "execution_count": 20,
   "id": "bc12c7a1",
   "metadata": {},
   "outputs": [
    {
     "name": "stdout",
     "output_type": "stream",
     "text": [
      "Febrer\n",
      "Febrer\n"
     ]
    }
   ],
   "source": [
    "print(T1[1]) \n",
    "\n",
    "#des de trismetres també podria ser\n",
    "\n",
    "print(trimestres[0][1])\n"
   ]
  },
  {
   "cell_type": "markdown",
   "id": "82158c82",
   "metadata": {},
   "source": [
    "    2- Els mesos del primer trimestre"
   ]
  },
  {
   "cell_type": "code",
   "execution_count": 21,
   "id": "700afd03",
   "metadata": {},
   "outputs": [
    {
     "name": "stdout",
     "output_type": "stream",
     "text": [
      "['Gener', 'Febrer', 'Març']\n",
      "['Gener', 'Febrer', 'Març']\n"
     ]
    }
   ],
   "source": [
    "print(T1) \n",
    "\n",
    "#des de trismetres també podria ser\n",
    "\n",
    "print(trimestres[0])"
   ]
  },
  {
   "cell_type": "markdown",
   "id": "b450e313",
   "metadata": {},
   "source": [
    "    3 - Setembre i octubre"
   ]
  },
  {
   "cell_type": "code",
   "execution_count": 25,
   "id": "209b02e3",
   "metadata": {},
   "outputs": [
    {
     "name": "stdout",
     "output_type": "stream",
     "text": [
      "Setembre Octubre\n"
     ]
    }
   ],
   "source": [
    "print(trimestres[2][2], trimestres[3][0])"
   ]
  },
  {
   "cell_type": "markdown",
   "id": "8433783d",
   "metadata": {},
   "source": [
    "## Exercici 2"
   ]
  },
  {
   "cell_type": "markdown",
   "id": "4e4d1ffd",
   "metadata": {},
   "source": [
    "##### Crea una llista amb nombres desordenats i respon a les següents preguntes:\n",
    " - Quants números hi ha?\n",
    " - Quantes vegades apareix el número 3.\n",
    " - Quantes vegades apareixen els nombres 3 i 4?\n",
    " - Quin és el número més gran?\n",
    " - Quins són els 3 números més petits?\n",
    " - Quin és el rang d’aquesta llista?"
   ]
  },
  {
   "cell_type": "code",
   "execution_count": 12,
   "id": "5da12d99",
   "metadata": {
    "scrolled": true
   },
   "outputs": [
    {
     "name": "stdout",
     "output_type": "stream",
     "text": [
      "[ 4 11  0  3  8  6 16  8 13  5 15 17  1  8 11  3 16 15 19  4 15 19 17 10\n",
      " 10  4  1  1 12 12 17  1  4 15  6 19  9 10 14 15  6  1 10 17 11  6  2  2\n",
      " 17 15  9 11  2  1 15  5 16  5 19 11 18  6 13  8 15 14  4  2 12 14 14 18\n",
      " 18  5  1  2 18  7 19 12 10 16  6  2  9 18 14 14  4  0  1 18  8  4 16  9\n",
      "  4 16 19  8 18 16  8 11 15 16 17  3 17  8 19 16 19  3 14  9  7 15  7  8\n",
      "  1  9 16  6  3  2  6 18  6 11 18 18 19  5 11  8 19  8 12  1  2 18  7  9\n",
      "  4  3  1 15  1 17  1  3 18  0  7 17 10 15 10 16 19 19 17 17 10  0 19 13\n",
      "  5  3 12 12  1 13  7  5  5 13 12 16 13  4  8 18 18  1  9  2  9  3 17  3\n",
      "  7  4  9  9  2 14  9 19 10  2  9  2 12  1 16  2 17  5 10 18  1  0 17 10\n",
      "  6  4 16  8 11 10 12  1 12 12 11 14  1  1  8  7 16  7  4  8 14  8 18 11\n",
      "  2 11 13  5 17  9  3  1  8  9  2 12 18 10 10  1 13  0 12 14 10  9  6  7\n",
      " 16  1 17 14  1 13 12 18  6 12 13  0 10  0 13  1 16  7  0  2 13  9 15 12\n",
      "  9 10  4 10  2  3 18 10 14 17  5 15 16  7 16  4 19 11  5 15 18 17  9 10\n",
      "  5 18  9  5 11 12  6  2 18  3  3  7  1 10 18 18 10 12 13 18  8 12 12  2\n",
      "  7  2  5  7 16  1 16  8  2 17 14  3 12 17  5  7 10 10 12 13  6 10 16 16\n",
      " 12 12  8  4 17  9  6 14 18 17  2  5 16  3  1  1 13 11 12 14  5 13  2  8\n",
      "  8 13  5  6 14 16 18  5 11 10  0 16  8  7  2 18 15  3  8  4  0  3 10 12\n",
      "  7  1  9 18 19  9  1 17  9  1  5 12  3  0  9 11 12  8  6 15  1 15 17 15\n",
      "  5  5 17 18 10  2 17 11  6 12  0 12 10 19 11  9  8  9 10 14 19 16  9 12\n",
      " 14  5  2  8 14  7 17 13 19  6 14 11  3  1 10  8 16 10  9  0  3  1 17 10\n",
      "  6  7 11 12 17 14  4  0 10 16 10 13  2 11 15  6  8 12  3 13]\n"
     ]
    }
   ],
   "source": [
    "list = np.random.randint(20, size=(500)) \n",
    "print(list) "
   ]
  },
  {
   "cell_type": "code",
   "execution_count": 18,
   "id": "d0dd0fd3",
   "metadata": {},
   "outputs": [
    {
     "name": "stdout",
     "output_type": "stream",
     "text": [
      "A la llista n'hi ha 500 números\n"
     ]
    }
   ],
   "source": [
    "def comptar(list):\n",
    "    count = 0\n",
    "    for element in list:\n",
    "        count += 1\n",
    "    return count\n",
    "\n",
    "print(\"A la llista n'hi ha\", comptar(list), \"números\")"
   ]
  },
  {
   "cell_type": "code",
   "execution_count": 30,
   "id": "6160b606",
   "metadata": {},
   "outputs": [
    {
     "name": "stdout",
     "output_type": "stream",
     "text": [
      "A la llista hi han 22 número tres\n"
     ]
    }
   ],
   "source": [
    "def comptar_un (list):\n",
    "    comptador = 0\n",
    "    for elements in list:\n",
    "        if elements == 3:\n",
    "            comptador += 1\n",
    "    return comptador\n",
    "\n",
    "print(\"A la llista hi han\", comptar_un(list), \"número tres\")"
   ]
  },
  {
   "cell_type": "code",
   "execution_count": 51,
   "id": "ab983166",
   "metadata": {},
   "outputs": [
    {
     "name": "stdout",
     "output_type": "stream",
     "text": [
      "El número 3 apareix 22 vegades\n",
      "El número 4 apareix 18 vegades\n",
      "En total, els números 3 i 4 apareixen 40 vegades\n"
     ]
    }
   ],
   "source": [
    "def comptar_dos(list):\n",
    "    comptador1 = 0\n",
    "    comptador2 = 0\n",
    "    for element in list:\n",
    "        if element == 3:\n",
    "            comptador1 += 1\n",
    "        elif element == 4:\n",
    "            comptador2 += 1\n",
    "    return comptador1, comptador2\n",
    "\n",
    "numeros34 = comptar_dos(list)\n",
    "print(\"El número 3 apareix\", numeros34[0], \"vegades\")\n",
    "print(\"El número 4 apareix\", numeros34[1], \"vegades\")\n",
    "print(\"En total, els números 3 i 4 apareixen\", sum(numeros34), \"vegades\")"
   ]
  },
  {
   "cell_type": "code",
   "execution_count": 52,
   "id": "cae941da",
   "metadata": {},
   "outputs": [
    {
     "name": "stdout",
     "output_type": "stream",
     "text": [
      "El número més gran a la llista es 19\n"
     ]
    }
   ],
   "source": [
    "myVar = max(list)\n",
    "print(\"El número més gran a la llista es\", myVar)"
   ]
  },
  {
   "cell_type": "code",
   "execution_count": 58,
   "id": "1776d77f",
   "metadata": {},
   "outputs": [
    {
     "name": "stdout",
     "output_type": "stream",
     "text": [
      "Els tres números més petits a la llista serien [0, 0, 0]\n"
     ]
    }
   ],
   "source": [
    "mespetits = sorted(list, reverse=False)\n",
    "print(\"Els tres números més petits a la llista serien\", mespetits[:3])"
   ]
  },
  {
   "cell_type": "code",
   "execution_count": 61,
   "id": "789b9237",
   "metadata": {},
   "outputs": [
    {
     "name": "stdout",
     "output_type": "stream",
     "text": [
      "El rang estadístic seria 19\n"
     ]
    }
   ],
   "source": [
    "rang_estadistic = max(list) - min(list)\n",
    "print(\"El rang estadístic de la llista és\", rang_estadistic)"
   ]
  },
  {
   "cell_type": "markdown",
   "id": "f1abb074",
   "metadata": {},
   "source": [
    "## Exercici 4"
   ]
  },
  {
   "cell_type": "markdown",
   "id": "6e7a015e",
   "metadata": {},
   "source": [
    "##### Crea un diccionari de la següent forma i respon a les preguntes:"
   ]
  },
  {
   "cell_type": "code",
   "execution_count": 68,
   "id": "d62063c7",
   "metadata": {},
   "outputs": [
    {
     "name": "stdout",
     "output_type": "stream",
     "text": [
      "{'Pomes': {'Qty': 5, '€': 0.42}, 'Peres': {'Qty': 3, '€': 0.66}}\n"
     ]
    }
   ],
   "source": [
    "compra = { \"Pomes\" : {\"Qty\": 5, \"€\": 0.42}, \"Peres\" : {\"Qty\": 3, \"€\": 0.66} }\n",
    "print(compra)"
   ]
  },
  {
   "cell_type": "markdown",
   "id": "e4ecbbc3",
   "metadata": {},
   "source": [
    "- Afegeix alguna fruita més\n",
    "- Quant han costat les peres en total?\n",
    "- Quantes fruites hem comprat en total?\n",
    "- Quina és la fruita més cara?"
   ]
  },
  {
   "cell_type": "code",
   "execution_count": 90,
   "id": "90b05ff8",
   "metadata": {},
   "outputs": [
    {
     "name": "stdout",
     "output_type": "stream",
     "text": [
      "{'Pomes': {'Qty': 5, '€': 0.42}, 'Peres': {'Qty': 3, '€': 0.66}, 'Maduixes': {'Qty': 24, '€': 3.26}}\n"
     ]
    }
   ],
   "source": [
    "compra[\"Maduixes\"] = {\"Qty\": 24, \"€\": 3.26}\n",
    "print(compra) #s'han afegit maduixes"
   ]
  },
  {
   "cell_type": "code",
   "execution_count": 74,
   "id": "3980081a",
   "metadata": {},
   "outputs": [
    {
     "name": "stdout",
     "output_type": "stream",
     "text": [
      "El cost total de les peres és: 1.98 €\n"
     ]
    }
   ],
   "source": [
    "total_peres = compra[\"Peres\"][\"Qty\"] * compra[\"Peres\"][\"€\"]\n",
    "print(\"El cost total de les peres és:\", total_peres,\"€\")"
   ]
  },
  {
   "cell_type": "code",
   "execution_count": 78,
   "id": "93e4770b",
   "metadata": {},
   "outputs": [
    {
     "name": "stdout",
     "output_type": "stream",
     "text": [
      "En total hem comprat 32 fruites\n"
     ]
    }
   ],
   "source": [
    "totalqty = sum([info[\"Qty\"] for info in compra.values()])\n",
    "print(f\"En total hem comprat {total_qty} fruites\")"
   ]
  },
  {
   "cell_type": "code",
   "execution_count": 92,
   "id": "b4cafb96",
   "metadata": {},
   "outputs": [
    {
     "name": "stdout",
     "output_type": "stream",
     "text": [
      "Les fruites més costosa van ser Maduixes\n"
     ]
    }
   ],
   "source": [
    "fruitamescara = max(compra, key=lambda fruita: compra[fruita]['€'])\n",
    "print(\"Les fruites més costosa van ser\", fruitamescara)"
   ]
  }
 ],
 "metadata": {
  "kernelspec": {
   "display_name": "Python 3 (ipykernel)",
   "language": "python",
   "name": "python3"
  },
  "language_info": {
   "codemirror_mode": {
    "name": "ipython",
    "version": 3
   },
   "file_extension": ".py",
   "mimetype": "text/x-python",
   "name": "python",
   "nbconvert_exporter": "python",
   "pygments_lexer": "ipython3",
   "version": "3.9.13"
  }
 },
 "nbformat": 4,
 "nbformat_minor": 5
}
