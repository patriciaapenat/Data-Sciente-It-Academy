{
 "cells": [
  {
   "cell_type": "markdown",
   "id": "215b91ce",
   "metadata": {},
   "source": [
    "# Tasca M2 T02, Sprint 2"
   ]
  },
  {
   "cell_type": "markdown",
   "id": "e8e05239",
   "metadata": {},
   "source": [
    "## Exercici 1"
   ]
  },
  {
   "cell_type": "markdown",
   "id": "c8e4130c",
   "metadata": {},
   "source": [
    "##### L'exercici consisteix a crear un programa que et classifiqui una variable numèrica en funció de l’escala Suspès/Aprovat/Notable/Excel·lent. Recorda que Suspès < 5, Aprovat > 5 i < 7, Notable > 7 i < 9 i Excel·lent > 9."
   ]
  },
  {
   "cell_type": "code",
   "execution_count": 1,
   "id": "8353d002",
   "metadata": {},
   "outputs": [
    {
     "name": "stdout",
     "output_type": "stream",
     "text": [
      "Introdueix la nota: h\n",
      "La nota ha de ser un número\n",
      "Introdueix la nota: 1\n",
      "Suspès\n",
      "Voleu repetir? (S/N): S\n",
      "\n",
      "Introdueix la nota: N\n",
      "La nota ha de ser un número\n",
      "Introdueix la nota: 4\n",
      "Suspès\n",
      "Voleu repetir? (S/N): N\n",
      "Adéu!\n"
     ]
    }
   ],
   "source": [
    "def escaladenotes():\n",
    "    while True:\n",
    "        nota = input(\"Introdueix la nota: \")\n",
    "        nota = nota.replace(',', '.') \n",
    "        try:\n",
    "            nota = float(nota)\n",
    "        except ValueError:\n",
    "            print(\"La nota ha de ser un número\")\n",
    "            continue\n",
    "        if nota < 0 or nota > 10:\n",
    "            print(\"Nota invàlida\")\n",
    "            continue\n",
    "       \n",
    "        nota = round(nota, 2)\n",
    "        if nota >= 9:\n",
    "            print(\"Excel·lent\")\n",
    "        elif nota >= 7:\n",
    "            print(\"Notable\")\n",
    "        elif nota >= 4.5:\n",
    "            print(\"Aprovat\")\n",
    "        else:\n",
    "            print(\"Suspès\")\n",
    "            \n",
    "        while True:\n",
    "            resposta = input('Voleu repetir? (S/N): ')\n",
    "            if resposta.upper() == 'S':\n",
    "                break\n",
    "            elif resposta.upper() == 'N':\n",
    "                print('Adéu!')\n",
    "                return 1\n",
    "            else:\n",
    "                print('Error: Ha de ser S o N.')\n",
    "                \n",
    "        print()\n",
    "escaladenotes()"
   ]
  },
  {
   "cell_type": "markdown",
   "id": "b24023db",
   "metadata": {},
   "source": [
    "## Exercici 2"
   ]
  },
  {
   "cell_type": "markdown",
   "id": "6352334c",
   "metadata": {},
   "source": [
    "##### Utilitzant el següent tutorial crea un programa que et pregunti dos números. T’ha de mostrar un missatge dient si el primer és més gran, el segon és més gran o són iguals."
   ]
  },
  {
   "cell_type": "code",
   "execution_count": 55,
   "id": "755aebad",
   "metadata": {},
   "outputs": [
    {
     "name": "stdout",
     "output_type": "stream",
     "text": [
      "Ingreseu un número: 3\n",
      "Ha ingresat: 3\n",
      "Ingreseu un altre número: 4\n",
      "Ha ingresat: 4\n",
      "El segon número es més gran\n",
      "Voleu repetir? (S/N): s\n",
      "\n",
      "Ingreseu un número: A\n",
      "Error: Ha de ser un número.\n",
      "Ingreseu un número: 3\n",
      "Ha ingresat: 3\n",
      "Ingreseu un altre número: 3\n",
      "Ha ingresat: 3\n",
      "Els números son iguals\n",
      "Voleu repetir? (S/N): A\n",
      "Error: Ha de ser S o N.\n",
      "Voleu repetir? (S/N): n\n",
      "Adéu!\n",
      "\n"
     ]
    }
   ],
   "source": [
    "def programet(num1, num2):\n",
    "    if num1 > num2:\n",
    "        return \"El primer número és més gran\"\n",
    "    elif num2 > num1:\n",
    "        return \"El segon número es més gran\"\n",
    "    elif num1 == num2:\n",
    "        return \"Els números son iguals\"\n",
    "\n",
    "repetir = True\n",
    "while repetir:\n",
    "    while True:\n",
    "        try:\n",
    "            num1 = int(input('Ingreseu un número: '))\n",
    "            break\n",
    "        except ValueError:\n",
    "            print('Error: Ha de ser un número.')\n",
    "    print('Ha ingresat:', num1) \n",
    "    \n",
    "    while True:\n",
    "        try:\n",
    "            num2 = int(input('Ingreseu un altre número: '))\n",
    "            break\n",
    "        except ValueError:\n",
    "            print('Error: Ha de ser un número.')\n",
    "    print('Ha ingresat:', num2) \n",
    "    \n",
    "    resultat1 = programet(num1,num2)\n",
    "    print(resultat1)\n",
    "    \n",
    "    while True:\n",
    "        resposta = input('Voleu repetir? (S/N): ')\n",
    "        if resposta.upper() == 'S':\n",
    "            break\n",
    "        elif resposta.upper() == 'N':\n",
    "            repetir = False\n",
    "            print('Adéu!')\n",
    "            break\n",
    "        else:\n",
    "            print('Error: Ha de ser S o N.')\n",
    "    print()\n"
   ]
  },
  {
   "cell_type": "markdown",
   "id": "a322b99f",
   "metadata": {},
   "source": [
    "## Exercici 3"
   ]
  },
  {
   "cell_type": "markdown",
   "id": "5d084f47",
   "metadata": {},
   "source": [
    "##### Crea un programa que et pregunti el teu nom, i et demani un número. Si el número és 0, hauria de mostrar un missatge d’error. En cas contrari, hauria de mostrar el nom repetit tants cops com indiqui el número. Per exemple, “Joan Joan Joan”."
   ]
  },
  {
   "cell_type": "code",
   "execution_count": 7,
   "id": "af00b52c",
   "metadata": {},
   "outputs": [
    {
     "name": "stdout",
     "output_type": "stream",
     "text": [
      "Com et dius? Ana\n",
      "Un plaer, Ana\n",
      "Digueu-me un número: 3\n",
      "Heu triat 3\n",
      "Ana\n",
      "Ana\n",
      "Ana\n",
      "Voleu repetir? (S/N): s\n",
      "\n",
      "Com et dius? Patricia\n",
      "Un plaer, Patricia\n",
      "Digueu-me un número: 4\n",
      "Heu triat 4\n",
      "Patricia\n",
      "Patricia\n",
      "Patricia\n",
      "Patricia\n",
      "Voleu repetir? (S/N): a\n",
      "Error: Ha de ser S o N.\n",
      "Voleu repetir? (S/N): s\n",
      "\n",
      "Com et dius? Alejandra\n",
      "Un plaer, Alejandra\n",
      "Digueu-me un número: a\n",
      "Error: Ha de ser un número enter.\n",
      "Digueu-me un número: 0\n",
      "Error: El número ha de ser major que 0.\n",
      "Digueu-me un número: 1\n",
      "Heu triat 1\n",
      "Alejandra\n",
      "Voleu repetir? (S/N): n\n",
      "Adéu!\n",
      "\n"
     ]
    }
   ],
   "source": [
    "def programet2():\n",
    "    nomusuari = input('Com et dius? ')\n",
    "    print('Un plaer,', nomusuari)\n",
    "\n",
    "    while True:\n",
    "        nmrusuari = input('Digueu-me un número: ')\n",
    "        if not nmrusuari.isnumeric():\n",
    "            print('Error: Ha de ser un número enter.')\n",
    "            continue\n",
    "        nmrusuari = int(nmrusuari)\n",
    "        if nmrusuari <= 0:\n",
    "            print('Error: El número ha de ser major que 0.')\n",
    "            continue\n",
    "        break\n",
    "\n",
    "    print('Heu triat', nmrusuari)\n",
    "    print('\\n'.join([nomusuari]*nmrusuari))\n",
    "\n",
    "    return True\n",
    "\n",
    "repetir = True\n",
    "while repetir:\n",
    "    programet2()\n",
    "    while True:\n",
    "        resposta = input('Voleu repetir? (S/N): ')\n",
    "        if resposta.upper() == 'S':\n",
    "            break\n",
    "        elif resposta.upper() == 'N':\n",
    "            print('Adéu!')\n",
    "            repetir = False\n",
    "            break\n",
    "        else:\n",
    "            print('Error: Ha de ser S o N.')\n",
    "    print()"
   ]
  },
  {
   "cell_type": "markdown",
   "id": "fbc333b0",
   "metadata": {},
   "source": [
    "## Exercici 4"
   ]
  },
  {
   "cell_type": "markdown",
   "id": "3e09fc24",
   "metadata": {},
   "source": [
    "##### Crea un programa que donada una llista qualsevol, et digui si és simètrica o no. Si ho és, que et digui quants elements té."
   ]
  },
  {
   "cell_type": "code",
   "execution_count": 1,
   "id": "0fd96419",
   "metadata": {},
   "outputs": [
    {
     "name": "stdout",
     "output_type": "stream",
     "text": [
      "Si us plau introduiu qualsevol cosa o pressioni enter, estàs introduint el valor 1:3\n",
      "Si us plau introduiu qualsevol cosa o pressioni enter, estàs introduint el valor 2:1\n",
      "Si us plau introduiu qualsevol cosa o pressioni enter, estàs introduint el valor 3:4\n",
      "Si us plau introduiu qualsevol cosa o pressioni enter, estàs introduint el valor 4:2\n",
      "Si us plau introduiu qualsevol cosa o pressioni enter, estàs introduint el valor 5:1\n",
      "Aquesta llista no és simètrica\n",
      "La teva llista seria: ['3', '1', '4', '2', '1']\n"
     ]
    }
   ],
   "source": [
    "def es_simetrica(llista):\n",
    "    longitud = len(llista)\n",
    "    for i in range(longitud//2):\n",
    "        if llista[i] != llista[longitud-i-1]:\n",
    "            return False, 0\n",
    "    return True, longitud\n",
    "\n",
    "llisteta = []\n",
    "i = 1\n",
    "while i < 6:\n",
    "    a = input(\"Si us plau introduiu qualsevol cosa o pressioni enter, estàs introduint el valor \" + str(i) + \":\")\n",
    "    llisteta.append(a)\n",
    "    i += 1\n",
    "\n",
    "simetrica, longitud = es_simetrica(llisteta)\n",
    "\n",
    "if simetrica:\n",
    "    print('Aquesta llista és simètrica i té', longitud, 'elements')\n",
    "else:\n",
    "    print('Aquesta llista no és simètrica')\n",
    "\n",
    "print('La teva llista seria:', llisteta)"
   ]
  },
  {
   "cell_type": "markdown",
   "id": "aa263c45",
   "metadata": {},
   "source": [
    "## Exercici 5"
   ]
  },
  {
   "cell_type": "markdown",
   "id": "7b181969",
   "metadata": {},
   "source": [
    "##### Crea un programa que donada una llista, et digui quants números coincideixen amb la seva posició. Per exemple [3,4,2,0,2,3,6] el 2 i el 6 coincideixen."
   ]
  },
  {
   "cell_type": "code",
   "execution_count": 43,
   "id": "f2668be4",
   "metadata": {},
   "outputs": [
    {
     "name": "stdout",
     "output_type": "stream",
     "text": [
      "La llista introduïda és: [3, 4, 2, 0, 2, 3, 6]\n",
      "Hi ha, 2 números coincidents amb la seva posició, serien [2, 6]\n"
     ]
    }
   ],
   "source": [
    "def nmrscoincidents(llista):\n",
    "    coincidents = 0\n",
    "    coincidencies = []\n",
    "    for i, num in enumerate(llista):\n",
    "        if i == num:\n",
    "            coincidents += 1\n",
    "            coincidencies.append(num)\n",
    "    return coincidents, coincidencies\n",
    "\n",
    "num = [3, 4, 2, 0, 2, 3, 6]\n",
    "\n",
    "print(\"La llista introduïda és:\", num)\n",
    "coincidents, coincidencies = nmrscoincidents(num)\n",
    "print(f\"Hi ha, {coincidents} números coincidents amb la seva posició, serien {coincidencies}\")"
   ]
  },
  {
   "cell_type": "code",
   "execution_count": 46,
   "id": "fbda03f7",
   "metadata": {},
   "outputs": [
    {
     "name": "stdout",
     "output_type": "stream",
     "text": [
      "Si us plau introduiu qualsevol numero o, estàs introduint el valor 1: 3\n",
      "Si us plau introduiu qualsevol numero o, estàs introduint el valor 2: 4\n",
      "Si us plau introduiu qualsevol numero o, estàs introduint el valor 3: 2\n",
      "Si us plau introduiu qualsevol numero o, estàs introduint el valor 4: 0\n",
      "Si us plau introduiu qualsevol numero o, estàs introduint el valor 5: 2\n",
      "Si us plau introduiu qualsevol numero o, estàs introduint el valor 6: 3\n",
      "Si us plau introduiu qualsevol numero o, estàs introduint el valor 7: 6\n",
      "La llista introduïda és: [3, 4, 2, 0, 2, 3, 6]\n",
      "Hi ha, 2 números coincidents amb la seva posició, serien [2, 6]\n"
     ]
    }
   ],
   "source": [
    "#Versió amb input\n",
    "\n",
    "def nmrscoincidents(llista):\n",
    "    coincidents = 0\n",
    "    coincidencies = []\n",
    "    for i, num in enumerate(llista):\n",
    "        if i == num:\n",
    "            coincidents += 1\n",
    "            coincidencies.append(num)\n",
    "    return coincidents, coincidencies\n",
    "\n",
    "num = []\n",
    "i = 1\n",
    "while i < 8:\n",
    "    a = input(\"Si us plau introduiu qualsevol numero o, estàs introduint el valor \" + str(i) + \": \")\n",
    "    if a.isdigit():\n",
    "        num.append(int(a))\n",
    "        i += 1\n",
    "    else:\n",
    "        print(\"Entrada no vàlida. Si us plau, introduïu un número.\")\n",
    "\n",
    "print(\"La llista introduïda és:\", num)\n",
    "coincidents, coincidencies = nmrscoincidents(num)\n",
    "print(f\"Hi ha, {coincidents} números coincidents amb la seva posició, serien {coincidencies}\")"
   ]
  }
 ],
 "metadata": {
  "kernelspec": {
   "display_name": "Python 3 (ipykernel)",
   "language": "python",
   "name": "python3"
  },
  "language_info": {
   "codemirror_mode": {
    "name": "ipython",
    "version": 3
   },
   "file_extension": ".py",
   "mimetype": "text/x-python",
   "name": "python",
   "nbconvert_exporter": "python",
   "pygments_lexer": "ipython3",
   "version": "3.9.13"
  }
 },
 "nbformat": 4,
 "nbformat_minor": 5
}
