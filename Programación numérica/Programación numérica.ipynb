{
 "cells": [
  {
   "cell_type": "markdown",
   "id": "38d8e200",
   "metadata": {},
   "source": [
    "# Tasca M3 T01"
   ]
  },
  {
   "cell_type": "markdown",
   "id": "e4cf20b0",
   "metadata": {},
   "source": [
    "## Exercici 1"
   ]
  },
  {
   "cell_type": "markdown",
   "id": "488d2f2e",
   "metadata": {},
   "source": [
    "Crea una funció que donat un Array d’una dimensió, et faci un resum estadístic bàsic de les dades. Si detecta que l’array té més d’una dimensió, ha de mostrar un missatge d’error."
   ]
  },
  {
   "cell_type": "code",
   "execution_count": 4,
   "id": "0966a199",
   "metadata": {},
   "outputs": [
    {
     "name": "stdout",
     "output_type": "stream",
     "text": [
      "[ 58  34   2  34  77  15  24  72  25  48  77  45  90  60  78  81  86  16\n",
      "  71  89  39  95  73  38  39  74  71  91  56  28  18  19  96   6  67  39\n",
      "  83  98   2  52  65  28   2  19  50  23  62  54  18  97  85  90  85   1\n",
      "   0  66  68  64  11  53  48  57  33  86  31  28  47  49  32  94  25  42\n",
      "  51  87  30  54  28  83  37  22  64  37  77  32  88  29  80  30  58 100\n",
      "  53  80  86  50  88  96  63  56  32  71]\n"
     ]
    }
   ],
   "source": [
    "import numpy as np\n",
    "\n",
    "Array= np.random.randint(0, 101, size=(100))\n",
    "print(Array)"
   ]
  },
  {
   "cell_type": "code",
   "execution_count": 5,
   "id": "a8496707",
   "metadata": {},
   "outputs": [],
   "source": [
    "def resum_stdtc(arr):\n",
    "    if arr.ndim != 1:\n",
    "        print(\"Error: l'array té més d'una dimensió\")\n",
    "    else:\n",
    "        print(\"Resum estadístic:\")\n",
    "        print(\"Mínim: \", np.min(arr))\n",
    "        print(\"Màxim: \", np.max(arr))\n",
    "        print(\"Mitjana: \", np.mean(arr))\n",
    "        print(\"Mediana: \", np.median(arr))\n",
    "        print(\"Desviació estàndard: \", np.std(arr))\n",
    "        print(\"Quartil 1: \", np.percentile(arr, 25))\n",
    "        print(\"Quartil 3: \", np.percentile(arr, 75))"
   ]
  },
  {
   "cell_type": "code",
   "execution_count": 6,
   "id": "db86aa9a",
   "metadata": {},
   "outputs": [
    {
     "name": "stdout",
     "output_type": "stream",
     "text": [
      "Resum estadístic:\n",
      "Mínim:  0\n",
      "Màxim:  100\n",
      "Mitjana:  53.41\n",
      "Mediana:  53.5\n",
      "Desviació estàndard:  27.45690987711472\n",
      "Quartil 1:  30.75\n",
      "Quartil 3:  77.25\n"
     ]
    }
   ],
   "source": [
    "resum_stdtc(Array)"
   ]
  },
  {
   "cell_type": "markdown",
   "id": "0df3aa0d",
   "metadata": {},
   "source": [
    "## Exercici 2"
   ]
  },
  {
   "cell_type": "markdown",
   "id": "7835f57d",
   "metadata": {},
   "source": [
    "Crea una funció que et generi un quadrat NxN de nombres aleatoris entre el 0 i el 100."
   ]
  },
  {
   "cell_type": "code",
   "execution_count": 5,
   "id": "70ac3cb4",
   "metadata": {},
   "outputs": [
    {
     "name": "stdout",
     "output_type": "stream",
     "text": [
      "[[49 75 80 52 88]\n",
      " [77 36 43 29 90]\n",
      " [70 62 98 88 48]\n",
      " [37 46 18 23 38]\n",
      " [19 13 98 75 97]]\n"
     ]
    }
   ],
   "source": [
    "import numpy as np\n",
    "\n",
    "def generar_matriu():\n",
    "    matriu = np.random.randint(0, 101, size=(5, 5))\n",
    "    return matriu\n",
    "\n",
    "matriz = generar_matriu()\n",
    "print(matriz)\n"
   ]
  },
  {
   "cell_type": "markdown",
   "id": "c45222bc",
   "metadata": {},
   "source": [
    "## Exercici 3"
   ]
  },
  {
   "cell_type": "markdown",
   "id": "6c5e4efb",
   "metadata": {},
   "source": [
    "Crea una funció que donada una taula de dues dimensions (NxM), et calculi els totals per fila i els totals per columna."
   ]
  },
  {
   "cell_type": "code",
   "execution_count": 4,
   "id": "e51ad2fa",
   "metadata": {},
   "outputs": [],
   "source": [
    "def calcular_totals(matriz):\n",
    "    sum_filas = np.sum(matriz, axis=1)\n",
    "    sum_columnas = np.sum(matriz, axis=0)\n",
    "    \n",
    "    print(\"Suma de files:\")\n",
    "    for fila in sum_filas:\n",
    "        print(fila)\n",
    "    \n",
    "    print(\"Suma de columnes:\")\n",
    "    for columna in sum_columnas:\n",
    "        print(columna)"
   ]
  },
  {
   "cell_type": "code",
   "execution_count": 7,
   "id": "fd21cde2",
   "metadata": {},
   "outputs": [
    {
     "name": "stdout",
     "output_type": "stream",
     "text": [
      "Suma de filas:\n",
      "344\n",
      "275\n",
      "366\n",
      "162\n",
      "302\n",
      "Suma de columnas:\n",
      "252\n",
      "232\n",
      "337\n",
      "267\n",
      "361\n"
     ]
    }
   ],
   "source": [
    "calcular_totals(matriz)"
   ]
  },
  {
   "cell_type": "markdown",
   "id": "0f076403",
   "metadata": {},
   "source": [
    "## Exercici 4"
   ]
  },
  {
   "cell_type": "markdown",
   "id": "157f0c4a",
   "metadata": {},
   "source": [
    "Implementa manualment una funció que calculi el coeficient de correlació. Informa-te'n sobre els seus usos i interpretació."
   ]
  },
  {
   "cell_type": "code",
   "execution_count": 12,
   "id": "4e775fae",
   "metadata": {},
   "outputs": [],
   "source": [
    "import numpy as np\n",
    "import scipy.stats"
   ]
  },
  {
   "cell_type": "code",
   "execution_count": 12,
   "id": "c5c879e6",
   "metadata": {},
   "outputs": [
    {
     "name": "stdout",
     "output_type": "stream",
     "text": [
      "[10 10  3 56  1 79  4 17 46  7] [15 32 20 28 88 38 41 66 88 71]\n"
     ]
    }
   ],
   "source": [
    "A = np.random.randint(1, 100, size=10)\n",
    "B = np.random.randint(1, 100, size=10)\n",
    "print(A,B)"
   ]
  },
  {
   "cell_type": "markdown",
   "id": "81574001",
   "metadata": {},
   "source": [
    "Sabem que les dades són numériques, a més sent que es un random randint podem assumir també la seva normalitat llavor l'adeqüat seria fer Pearsons"
   ]
  },
  {
   "cell_type": "markdown",
   "id": "3af70aa3",
   "metadata": {},
   "source": [
    "$$r_{xy} = \\frac{\\sum_{i=1}^{n}(x_i - \\bar{x})(y_i - \\bar{y})}{\\sqrt{\\sum_{i=1}^{n}(x_i - \\bar{x})^2} \\sqrt{\\sum_{i=1}^{n}(y_i - \\bar{y})^2}}$$"
   ]
  },
  {
   "cell_type": "markdown",
   "id": "e649c65f",
   "metadata": {},
   "source": [
    "- **xi** i **yi** són els valors de la i-aquesta en els conjunts de dades \n",
    "- $\\bar{x}$ i $\\bar{y}$ són les mitjanes\n",
    "- **n** és la quantitat d' observacions en els conjunts de dades.\n",
    "\n",
    "    _Recordem que X correspondrà a la variable independent i la Y a la dependent, a més si es donen dos valors s'assumirà que el primer correspondrà a X i el segon a Y_"
   ]
  },
  {
   "cell_type": "code",
   "execution_count": 15,
   "id": "63a58f76",
   "metadata": {},
   "outputs": [],
   "source": [
    "import numpy as np\n",
    "\n",
    "def pearson(x, y):\n",
    "    mean_x = np.mean(x)\n",
    "    mean_y = np.mean(y)\n",
    "    std_x = np.std(x)\n",
    "    std_y = np.std(y)\n",
    "    cov_xy = np.cov(x, y)[0, 1]\n",
    "    corr = cov_xy / (std_x * std_y)\n",
    "    print(\"El coeficient de correlació és:\", corr)\n",
    "    \n",
    "    if corr >= 0.7:\n",
    "        print(\"Existeix una correlació positiva forta entre les dues variables\")\n",
    "    elif 0.3 <= corr < 0.7:\n",
    "        print(\"Existeix una correlació positiva moderada entre les dues variables\")\n",
    "    elif 0.1 <= corr < 0.3:\n",
    "        print(\"Existeix una correlació positiva feble entre les dues variables\")\n",
    "    elif -0.1 <= corr < 0.1:\n",
    "        print(\"No hi ha correlació significativa entre les dues variables\")\n",
    "    elif -0.3 <= corr < -0.1:\n",
    "        print(\"Existeix una correlació negativa feble entre les dues variables\")\n",
    "    elif -0.7 <= corr < -0.3:\n",
    "        print(\"Existeix una correlació negativa moderada entre les dues variables\")\n",
    "    elif corr < -0.7:\n",
    "        print(\"Existeix una correlació negativa forta entre les dues variables\")\n",
    "    else:\n",
    "        print(\"El coeficient de correlació està fora de rang, ha ocurregut un error\")\n",
    "    \n",
    "    return corr"
   ]
  },
  {
   "cell_type": "code",
   "execution_count": 16,
   "id": "bd1b827f",
   "metadata": {},
   "outputs": [
    {
     "name": "stdout",
     "output_type": "stream",
     "text": [
      "El coeficient de correlació és: -0.054599357850576645\n",
      "No hi ha correlació significativa entre les dues variables\n"
     ]
    },
    {
     "data": {
      "text/plain": [
       "-0.054599357850576645"
      ]
     },
     "execution_count": 16,
     "metadata": {},
     "output_type": "execute_result"
    }
   ],
   "source": [
    "pearson(A, B)"
   ]
  }
 ],
 "metadata": {
  "kernelspec": {
   "display_name": "Python 3 (ipykernel)",
   "language": "python",
   "name": "python3"
  },
  "language_info": {
   "codemirror_mode": {
    "name": "ipython",
    "version": 3
   },
   "file_extension": ".py",
   "mimetype": "text/x-python",
   "name": "python",
   "nbconvert_exporter": "python",
   "pygments_lexer": "ipython3",
   "version": "3.9.13"
  }
 },
 "nbformat": 4,
 "nbformat_minor": 5
}
