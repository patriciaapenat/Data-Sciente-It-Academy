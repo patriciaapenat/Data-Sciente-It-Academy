{
 "cells": [
  {
   "cell_type": "markdown",
   "id": "e36fc117",
   "metadata": {},
   "source": [
    "# Tasca M3 T02"
   ]
  },
  {
   "cell_type": "markdown",
   "id": "4b2eb136",
   "metadata": {},
   "source": [
    "### Exercici 1"
   ]
  },
  {
   "cell_type": "markdown",
   "id": "f3302e69",
   "metadata": {},
   "source": [
    "Descarrega el data set Airlines Delay: Airline on-time statistics and delay causes i carrega’l a un Pandas Dataframe. Explora les dades que conté, explica breument quines variables hi ha i queda’t únicament amb les columnes que consideris rellevants. Justifica la teva elecció.\n",
    "\n",
    "->Airlines Delay: Airline on-time statistics and delay causes\n",
    "\n",
    "    Important\n",
    "\n",
    "    Redueix la dimensió del dataset de manera aleatòria per tal d'obtenir un dataset de només 200.000 registres. Tots els exercicis s'han de fer amb aquest dataset reduït."
   ]
  },
  {
   "cell_type": "code",
   "execution_count": 19,
   "id": "8bf0c646",
   "metadata": {},
   "outputs": [],
   "source": [
    "import pandas as pd\n",
    "DlydFlghts_orig = pd.read_csv(r\"C:\\Users\\Patricia\\Downloads\\DelayedFlights.csv\")"
   ]
  },
  {
   "cell_type": "markdown",
   "id": "4f8496f6",
   "metadata": {},
   "source": [
    "A dins del dataset trobem:\n",
    "\n",
    "- **Unnamed:** Index\n",
    "- **Year:** Any.\n",
    "- **Month:** Mes.\n",
    "- **DayOfMonth:** Dia del mes.\n",
    "- **DayOfWeek:** 1 (Dilluns) - 7 (Diumenge).\n",
    "- **DepTime:** Hora de sortida (local, hhmm).\n",
    "- **CRSDepTime:** Hora de sortida programada (local, hhmm).\n",
    "- **AirTime:** Hora real d'arribada (local, hhmm).\n",
    "- **CRSArrTime:** Hora d'arribada prevista (local, hhmm).\n",
    "- **UniqueCarrier:** Codi d'operador únic.\n",
    "- **FlightNum:** Número de vol.\n",
    "- **TailNum:** Número d'avió.\n",
    "- **ActualElapsedTime:** Temps transcorregut real (en minuts).\n",
    "- **CRSElapsedTime:** Temps transcorregut de vol CRS (temps transcorregut estimat), (en minuts).\n",
    "- **AirTime:** Temps de vol (en minuts).\n",
    "- **ArrDelay:** Diferència en minuts entre l'hora d'arribada prevista i la real. Les arribades anticipades mostren números negatius (en minuts).\n",
    "- **DepDelay:** Diferència en minuts entre l'hora de sortida prevista i la real. Les sortides anticipades mostren números negatius (en minuts).\n",
    "- **Origin:** Origen del vol, codi IATA d'Aeroports.\n",
    "- **Dest:** Destinació del vol, codi IATA d'Aeroports.\n",
    "- **Distance:** Distància en milles entre Aeroports.\n",
    "- **TaxiIn:** Descens de rodes i arribada a la porta de l'aeroport de destinació (en minuts).\n",
    "- **TaxiOut:** Temps transcorregut entre la sortida de la porta de l'aeroport d'origen i rodes fora (en minuts).\n",
    "- **Cancelled:** Es va cancel·lar el vol?\n",
    "- **CancellationCode:** Raons de cancel·lació (A = transportista, B = clima, C = NAS, D = seguretat).\n",
    "- **Diverted:** L'avió ha estat desviat, 1 = sí, 0 = no.\n",
    "- **CarrierDelay:** (en minuts).\n",
    "- **WeatherDelay:** (en minuts).\n",
    "- **NASDelay:** (en minuts).\n",
    "- **SecurityDelay:** (en minuts).\n",
    "- **LateAircraftDelay:** (en minuts).\n"
   ]
  },
  {
   "cell_type": "code",
   "execution_count": 20,
   "id": "d0e42152",
   "metadata": {},
   "outputs": [
    {
     "name": "stdout",
     "output_type": "stream",
     "text": [
      "Resultat:\n",
      " \n",
      "Total de Registres 1936758, Total de Columnes 30.\n"
     ]
    }
   ],
   "source": [
    "print('Resultat:\\n ')\n",
    "print(f'Total de Registres {DlydFlghts_orig.shape[0]}, Total de Columnes {DlydFlghts_orig.shape[1]}.')"
   ]
  },
  {
   "cell_type": "code",
   "execution_count": 21,
   "id": "b2778d46",
   "metadata": {},
   "outputs": [
    {
     "data": {
      "text/html": [
       "<div>\n",
       "<style scoped>\n",
       "    .dataframe tbody tr th:only-of-type {\n",
       "        vertical-align: middle;\n",
       "    }\n",
       "\n",
       "    .dataframe tbody tr th {\n",
       "        vertical-align: top;\n",
       "    }\n",
       "\n",
       "    .dataframe thead th {\n",
       "        text-align: right;\n",
       "    }\n",
       "</style>\n",
       "<table border=\"1\" class=\"dataframe\">\n",
       "  <thead>\n",
       "    <tr style=\"text-align: right;\">\n",
       "      <th></th>\n",
       "      <th>0</th>\n",
       "      <th>1</th>\n",
       "      <th>2</th>\n",
       "      <th>3</th>\n",
       "      <th>4</th>\n",
       "    </tr>\n",
       "  </thead>\n",
       "  <tbody>\n",
       "    <tr>\n",
       "      <th>Unnamed: 0</th>\n",
       "      <td>0</td>\n",
       "      <td>1</td>\n",
       "      <td>2</td>\n",
       "      <td>4</td>\n",
       "      <td>5</td>\n",
       "    </tr>\n",
       "    <tr>\n",
       "      <th>Year</th>\n",
       "      <td>2008</td>\n",
       "      <td>2008</td>\n",
       "      <td>2008</td>\n",
       "      <td>2008</td>\n",
       "      <td>2008</td>\n",
       "    </tr>\n",
       "    <tr>\n",
       "      <th>Month</th>\n",
       "      <td>1</td>\n",
       "      <td>1</td>\n",
       "      <td>1</td>\n",
       "      <td>1</td>\n",
       "      <td>1</td>\n",
       "    </tr>\n",
       "    <tr>\n",
       "      <th>DayofMonth</th>\n",
       "      <td>3</td>\n",
       "      <td>3</td>\n",
       "      <td>3</td>\n",
       "      <td>3</td>\n",
       "      <td>3</td>\n",
       "    </tr>\n",
       "    <tr>\n",
       "      <th>DayOfWeek</th>\n",
       "      <td>4</td>\n",
       "      <td>4</td>\n",
       "      <td>4</td>\n",
       "      <td>4</td>\n",
       "      <td>4</td>\n",
       "    </tr>\n",
       "    <tr>\n",
       "      <th>DepTime</th>\n",
       "      <td>2003.0</td>\n",
       "      <td>754.0</td>\n",
       "      <td>628.0</td>\n",
       "      <td>1829.0</td>\n",
       "      <td>1940.0</td>\n",
       "    </tr>\n",
       "    <tr>\n",
       "      <th>CRSDepTime</th>\n",
       "      <td>1955</td>\n",
       "      <td>735</td>\n",
       "      <td>620</td>\n",
       "      <td>1755</td>\n",
       "      <td>1915</td>\n",
       "    </tr>\n",
       "    <tr>\n",
       "      <th>ArrTime</th>\n",
       "      <td>2211.0</td>\n",
       "      <td>1002.0</td>\n",
       "      <td>804.0</td>\n",
       "      <td>1959.0</td>\n",
       "      <td>2121.0</td>\n",
       "    </tr>\n",
       "    <tr>\n",
       "      <th>CRSArrTime</th>\n",
       "      <td>2225</td>\n",
       "      <td>1000</td>\n",
       "      <td>750</td>\n",
       "      <td>1925</td>\n",
       "      <td>2110</td>\n",
       "    </tr>\n",
       "    <tr>\n",
       "      <th>UniqueCarrier</th>\n",
       "      <td>WN</td>\n",
       "      <td>WN</td>\n",
       "      <td>WN</td>\n",
       "      <td>WN</td>\n",
       "      <td>WN</td>\n",
       "    </tr>\n",
       "    <tr>\n",
       "      <th>FlightNum</th>\n",
       "      <td>335</td>\n",
       "      <td>3231</td>\n",
       "      <td>448</td>\n",
       "      <td>3920</td>\n",
       "      <td>378</td>\n",
       "    </tr>\n",
       "    <tr>\n",
       "      <th>TailNum</th>\n",
       "      <td>N712SW</td>\n",
       "      <td>N772SW</td>\n",
       "      <td>N428WN</td>\n",
       "      <td>N464WN</td>\n",
       "      <td>N726SW</td>\n",
       "    </tr>\n",
       "    <tr>\n",
       "      <th>ActualElapsedTime</th>\n",
       "      <td>128.0</td>\n",
       "      <td>128.0</td>\n",
       "      <td>96.0</td>\n",
       "      <td>90.0</td>\n",
       "      <td>101.0</td>\n",
       "    </tr>\n",
       "    <tr>\n",
       "      <th>CRSElapsedTime</th>\n",
       "      <td>150.0</td>\n",
       "      <td>145.0</td>\n",
       "      <td>90.0</td>\n",
       "      <td>90.0</td>\n",
       "      <td>115.0</td>\n",
       "    </tr>\n",
       "    <tr>\n",
       "      <th>AirTime</th>\n",
       "      <td>116.0</td>\n",
       "      <td>113.0</td>\n",
       "      <td>76.0</td>\n",
       "      <td>77.0</td>\n",
       "      <td>87.0</td>\n",
       "    </tr>\n",
       "    <tr>\n",
       "      <th>ArrDelay</th>\n",
       "      <td>-14.0</td>\n",
       "      <td>2.0</td>\n",
       "      <td>14.0</td>\n",
       "      <td>34.0</td>\n",
       "      <td>11.0</td>\n",
       "    </tr>\n",
       "    <tr>\n",
       "      <th>DepDelay</th>\n",
       "      <td>8.0</td>\n",
       "      <td>19.0</td>\n",
       "      <td>8.0</td>\n",
       "      <td>34.0</td>\n",
       "      <td>25.0</td>\n",
       "    </tr>\n",
       "    <tr>\n",
       "      <th>Origin</th>\n",
       "      <td>IAD</td>\n",
       "      <td>IAD</td>\n",
       "      <td>IND</td>\n",
       "      <td>IND</td>\n",
       "      <td>IND</td>\n",
       "    </tr>\n",
       "    <tr>\n",
       "      <th>Dest</th>\n",
       "      <td>TPA</td>\n",
       "      <td>TPA</td>\n",
       "      <td>BWI</td>\n",
       "      <td>BWI</td>\n",
       "      <td>JAX</td>\n",
       "    </tr>\n",
       "    <tr>\n",
       "      <th>Distance</th>\n",
       "      <td>810</td>\n",
       "      <td>810</td>\n",
       "      <td>515</td>\n",
       "      <td>515</td>\n",
       "      <td>688</td>\n",
       "    </tr>\n",
       "    <tr>\n",
       "      <th>TaxiIn</th>\n",
       "      <td>4.0</td>\n",
       "      <td>5.0</td>\n",
       "      <td>3.0</td>\n",
       "      <td>3.0</td>\n",
       "      <td>4.0</td>\n",
       "    </tr>\n",
       "    <tr>\n",
       "      <th>TaxiOut</th>\n",
       "      <td>8.0</td>\n",
       "      <td>10.0</td>\n",
       "      <td>17.0</td>\n",
       "      <td>10.0</td>\n",
       "      <td>10.0</td>\n",
       "    </tr>\n",
       "    <tr>\n",
       "      <th>Cancelled</th>\n",
       "      <td>0</td>\n",
       "      <td>0</td>\n",
       "      <td>0</td>\n",
       "      <td>0</td>\n",
       "      <td>0</td>\n",
       "    </tr>\n",
       "    <tr>\n",
       "      <th>CancellationCode</th>\n",
       "      <td>N</td>\n",
       "      <td>N</td>\n",
       "      <td>N</td>\n",
       "      <td>N</td>\n",
       "      <td>N</td>\n",
       "    </tr>\n",
       "    <tr>\n",
       "      <th>Diverted</th>\n",
       "      <td>0</td>\n",
       "      <td>0</td>\n",
       "      <td>0</td>\n",
       "      <td>0</td>\n",
       "      <td>0</td>\n",
       "    </tr>\n",
       "    <tr>\n",
       "      <th>CarrierDelay</th>\n",
       "      <td>NaN</td>\n",
       "      <td>NaN</td>\n",
       "      <td>NaN</td>\n",
       "      <td>2.0</td>\n",
       "      <td>NaN</td>\n",
       "    </tr>\n",
       "    <tr>\n",
       "      <th>WeatherDelay</th>\n",
       "      <td>NaN</td>\n",
       "      <td>NaN</td>\n",
       "      <td>NaN</td>\n",
       "      <td>0.0</td>\n",
       "      <td>NaN</td>\n",
       "    </tr>\n",
       "    <tr>\n",
       "      <th>NASDelay</th>\n",
       "      <td>NaN</td>\n",
       "      <td>NaN</td>\n",
       "      <td>NaN</td>\n",
       "      <td>0.0</td>\n",
       "      <td>NaN</td>\n",
       "    </tr>\n",
       "    <tr>\n",
       "      <th>SecurityDelay</th>\n",
       "      <td>NaN</td>\n",
       "      <td>NaN</td>\n",
       "      <td>NaN</td>\n",
       "      <td>0.0</td>\n",
       "      <td>NaN</td>\n",
       "    </tr>\n",
       "    <tr>\n",
       "      <th>LateAircraftDelay</th>\n",
       "      <td>NaN</td>\n",
       "      <td>NaN</td>\n",
       "      <td>NaN</td>\n",
       "      <td>32.0</td>\n",
       "      <td>NaN</td>\n",
       "    </tr>\n",
       "  </tbody>\n",
       "</table>\n",
       "</div>"
      ],
      "text/plain": [
       "                        0       1       2       3       4\n",
       "Unnamed: 0              0       1       2       4       5\n",
       "Year                 2008    2008    2008    2008    2008\n",
       "Month                   1       1       1       1       1\n",
       "DayofMonth              3       3       3       3       3\n",
       "DayOfWeek               4       4       4       4       4\n",
       "DepTime            2003.0   754.0   628.0  1829.0  1940.0\n",
       "CRSDepTime           1955     735     620    1755    1915\n",
       "ArrTime            2211.0  1002.0   804.0  1959.0  2121.0\n",
       "CRSArrTime           2225    1000     750    1925    2110\n",
       "UniqueCarrier          WN      WN      WN      WN      WN\n",
       "FlightNum             335    3231     448    3920     378\n",
       "TailNum            N712SW  N772SW  N428WN  N464WN  N726SW\n",
       "ActualElapsedTime   128.0   128.0    96.0    90.0   101.0\n",
       "CRSElapsedTime      150.0   145.0    90.0    90.0   115.0\n",
       "AirTime             116.0   113.0    76.0    77.0    87.0\n",
       "ArrDelay            -14.0     2.0    14.0    34.0    11.0\n",
       "DepDelay              8.0    19.0     8.0    34.0    25.0\n",
       "Origin                IAD     IAD     IND     IND     IND\n",
       "Dest                  TPA     TPA     BWI     BWI     JAX\n",
       "Distance              810     810     515     515     688\n",
       "TaxiIn                4.0     5.0     3.0     3.0     4.0\n",
       "TaxiOut               8.0    10.0    17.0    10.0    10.0\n",
       "Cancelled               0       0       0       0       0\n",
       "CancellationCode        N       N       N       N       N\n",
       "Diverted                0       0       0       0       0\n",
       "CarrierDelay          NaN     NaN     NaN     2.0     NaN\n",
       "WeatherDelay          NaN     NaN     NaN     0.0     NaN\n",
       "NASDelay              NaN     NaN     NaN     0.0     NaN\n",
       "SecurityDelay         NaN     NaN     NaN     0.0     NaN\n",
       "LateAircraftDelay     NaN     NaN     NaN    32.0     NaN"
      ]
     },
     "execution_count": 21,
     "metadata": {},
     "output_type": "execute_result"
    }
   ],
   "source": [
    "DlydFlghts_orig.head().T"
   ]
  },
  {
   "cell_type": "code",
   "execution_count": 22,
   "id": "235e673b",
   "metadata": {},
   "outputs": [
    {
     "data": {
      "text/plain": [
       "array([0, 1], dtype=int64)"
      ]
     },
     "execution_count": 22,
     "metadata": {},
     "output_type": "execute_result"
    }
   ],
   "source": [
    "DlydFlghts_orig['Diverted'].unique()"
   ]
  },
  {
   "cell_type": "markdown",
   "id": "34e9de57",
   "metadata": {},
   "source": [
    "Veient que la primera columna es l'index caldrà fer un canvi"
   ]
  },
  {
   "cell_type": "code",
   "execution_count": 23,
   "id": "42cdbfab",
   "metadata": {},
   "outputs": [],
   "source": [
    "DlydFlghts_orig = DlydFlghts_orig.set_index(DlydFlghts_orig.columns[0])"
   ]
  },
  {
   "cell_type": "code",
   "execution_count": 24,
   "id": "61c803dd",
   "metadata": {},
   "outputs": [
    {
     "data": {
      "text/plain": [
       "Index(['Year', 'Month', 'DayofMonth', 'DayOfWeek', 'DepTime', 'CRSDepTime',\n",
       "       'ArrTime', 'CRSArrTime', 'UniqueCarrier', 'FlightNum', 'TailNum',\n",
       "       'ActualElapsedTime', 'CRSElapsedTime', 'AirTime', 'ArrDelay',\n",
       "       'DepDelay', 'Origin', 'Dest', 'Distance', 'TaxiIn', 'TaxiOut',\n",
       "       'Cancelled', 'CancellationCode', 'Diverted', 'CarrierDelay',\n",
       "       'WeatherDelay', 'NASDelay', 'SecurityDelay', 'LateAircraftDelay'],\n",
       "      dtype='object')"
      ]
     },
     "execution_count": 24,
     "metadata": {},
     "output_type": "execute_result"
    }
   ],
   "source": [
    "DlydFlghts_orig.columns #ja estaria resolt"
   ]
  },
  {
   "cell_type": "code",
   "execution_count": 25,
   "id": "db01add9",
   "metadata": {},
   "outputs": [
    {
     "data": {
      "text/plain": [
       "2"
      ]
     },
     "execution_count": 25,
     "metadata": {},
     "output_type": "execute_result"
    }
   ],
   "source": [
    "#Ara a revisar si hi ha duplicats\n",
    "DlydFlghts_orig.duplicated().sum()"
   ]
  },
  {
   "cell_type": "markdown",
   "id": "d0216e3a",
   "metadata": {},
   "source": [
    "Mirem l'info"
   ]
  },
  {
   "cell_type": "code",
   "execution_count": 26,
   "id": "0233d7ba",
   "metadata": {},
   "outputs": [
    {
     "name": "stdout",
     "output_type": "stream",
     "text": [
      "<class 'pandas.core.frame.DataFrame'>\n",
      "Index: 1936758 entries, 0 to 7009727\n",
      "Data columns (total 29 columns):\n",
      " #   Column             Dtype  \n",
      "---  ------             -----  \n",
      " 0   Year               int64  \n",
      " 1   Month              int64  \n",
      " 2   DayofMonth         int64  \n",
      " 3   DayOfWeek          int64  \n",
      " 4   DepTime            float64\n",
      " 5   CRSDepTime         int64  \n",
      " 6   ArrTime            float64\n",
      " 7   CRSArrTime         int64  \n",
      " 8   UniqueCarrier      object \n",
      " 9   FlightNum          int64  \n",
      " 10  TailNum            object \n",
      " 11  ActualElapsedTime  float64\n",
      " 12  CRSElapsedTime     float64\n",
      " 13  AirTime            float64\n",
      " 14  ArrDelay           float64\n",
      " 15  DepDelay           float64\n",
      " 16  Origin             object \n",
      " 17  Dest               object \n",
      " 18  Distance           int64  \n",
      " 19  TaxiIn             float64\n",
      " 20  TaxiOut            float64\n",
      " 21  Cancelled          int64  \n",
      " 22  CancellationCode   object \n",
      " 23  Diverted           int64  \n",
      " 24  CarrierDelay       float64\n",
      " 25  WeatherDelay       float64\n",
      " 26  NASDelay           float64\n",
      " 27  SecurityDelay      float64\n",
      " 28  LateAircraftDelay  float64\n",
      "dtypes: float64(14), int64(10), object(5)\n",
      "memory usage: 443.3+ MB\n"
     ]
    }
   ],
   "source": [
    "DlydFlghts_orig.info()"
   ]
  },
  {
   "cell_type": "markdown",
   "id": "94a4c947",
   "metadata": {},
   "source": [
    "Reduim el dataset perquè és massa ampli per a processar-ho"
   ]
  },
  {
   "cell_type": "code",
   "execution_count": 27,
   "id": "a8a84067",
   "metadata": {},
   "outputs": [],
   "source": [
    "DlydFlghts = DlydFlghts_orig.sample(n=200000, random_state=42)"
   ]
  },
  {
   "cell_type": "markdown",
   "id": "2e634392",
   "metadata": {},
   "source": [
    "Ara si fem la neteja"
   ]
  },
  {
   "cell_type": "code",
   "execution_count": 28,
   "id": "826238c5",
   "metadata": {},
   "outputs": [
    {
     "name": "stdout",
     "output_type": "stream",
     "text": [
      "Resultat:\n",
      "\n",
      "No té duplicats\n",
      "S han eliminat 2 registres\n",
      "S han eliminat 60 registres\n",
      "S han eliminat 873 registres\n"
     ]
    }
   ],
   "source": [
    "# Revisar registres\n",
    "long = len(DlydFlghts)\n",
    "print('Resultat:\\n')\n",
    "\n",
    "# Eliminar duplicats\n",
    "\n",
    "if long == len(DlydFlghts):\n",
    "    print('No té duplicats')\n",
    "else:\n",
    "    print(f'S han eliminat {long - len(DlydFlghts)} duplicats')\n",
    "\n",
    "long = len(DlydFlghts)\n",
    "\n",
    "# Eliminem els vols que no van volar\n",
    "DlydFlghts.drop(DlydFlghts[DlydFlghts['AirTime'] == 0].index, inplace=True)\n",
    "\n",
    "if long == len(DlydFlghts):\n",
    "    print('Tots els vols van despegar')\n",
    "else:\n",
    "    print(f'S han eliminat {long - len(DlydFlghts)} registres')\n",
    "\n",
    "long = len(DlydFlghts)\n",
    "\n",
    "# Eliminar vols cancelats\n",
    "DlydFlghts = DlydFlghts[DlydFlghts['Cancelled'] != 1]\n",
    "\n",
    "if long == len(DlydFlghts):\n",
    "    print('No hi ha vols cancelats')\n",
    "else:\n",
    "    print(f'S han eliminat {long - len(DlydFlghts)} registres')\n",
    "\n",
    "# Eliminar vols desviats\n",
    "DlydFlghts = DlydFlghts[DlydFlghts['Diverted'] != 1]\n",
    "\n",
    "if long == len(DlydFlghts):\n",
    "    print('No hi ha vols desviats')\n",
    "else:\n",
    "    print(f'S han eliminat {long - len(DlydFlghts)} registres')\n",
    "    "
   ]
  },
  {
   "cell_type": "markdown",
   "id": "4e4b72ce",
   "metadata": {},
   "source": [
    "Mirant l'exercici 3 les preguntes sobre les dades fan referència a:\n",
    "\n",
    "- Velocitat mitjana del vol (Necessitarè temps en l'aire i distància)\n",
    "- Retard sí/no (amb que qualsevol delay hagi existit ja ens donarà per separar en True/False)\n",
    "- Aerolínies amb més retards (Necessitarem a passar el codi IATA al nom sencer)\n",
    "- Vols més llargs \n",
    "- Vols amb més retards (\n",
    "- Rutes més llargues (Distància entre origen i destí)\n",
    "- Rutes amb més retards (Comparar origen i destí)\n",
    "\n",
    "\n",
    "Vaig tener moltíssimes dubtes sobre quines dades treure, primer vaig considerar treure TaxiIn/TaxiOut però vaig revisar que és el temps entre que l'avió s'allunya de l'àrea d'embarcament fins que pot enlairar-se llavors al final té molta relació amb els retrasos sobre tot si comparessim els a aeroports però finalmente el que he fet es treure tot el que no anava a fer servir tot i que algunes vaig haver de ser conscient de que encara no podrè eliminar-les perquè he de fer transformacions\n",
    "\n",
    "Vaig a treure:\n",
    "\n",
    "- Year, Month, DayofMont, DayOfWeek &#8594; Vaig tenir una miqueta de angoixa de haver de eliminar aquestes però realment no se'ns pregunta res sobre les dates\n",
    "- FlightNum &#8594; és un identificador únic per vol\n",
    "- TailNum &#8594; és un identificador de l'aeronau i tampoc és una informació que anem a fer servir\n",
    "- ActualElapsedTime/CRSElapsedTime &#8594; fa referència al temps que es tarda un vol incloent també una vegada tenen Taxi\n",
    "- DepDelay; no més es té en compte el retràs a l'arribada\n",
    "- TaxiIn/TaxiOut &#8594; Podria ser interessant però no assembla que anem a fer servir aquesta informació, tot i que de qualsevol manera vaig investigar-ho i es el temps que pasa l'avió rodant pel aeroport.\n",
    "- Cancelled &#8594; Ja hem tret els vols cancelats\n",
    "- CancellationCode &#8594; No és necesari\n",
    "- DepTime, CRSDepTime, ArrTime, CRSArrTime &#8594; això es refereix a les hores reals i les programades, ja hi han unes columnes que ens dona la quantita de temps transcorregut, de ElapsedTime no existeix la columna llavors cal fer-la\n",
    "- Diverted &#8594; no se'ns pregunta per si ha sigut desviat o no\n",
    "- CarrierDelay / WeatherDelay / NASDelay / SecurityDelay / LateAircraftDelay  &#8594; No se'ns pregunta pel tipus de retràs\n",
    "\n",
    "També pels dubtes el que fem es crear una nova taula no més amb les columnes que farem servir."
   ]
  },
  {
   "cell_type": "code",
   "execution_count": 30,
   "id": "c2041e35",
   "metadata": {},
   "outputs": [
    {
     "name": "stdout",
     "output_type": "stream",
     "text": [
      "           UniqueCarrier  AirTime  ArrDelay Origin Dest  Distance\n",
      "Unnamed: 0                                                       \n",
      "6583804               YV    177.0      71.0    IAD  AUS      1297\n",
      "1604365               NW     55.0     548.0    ORD  MSP       334\n",
      "1395655               OO     44.0       9.0    SLC  PIH       150\n",
      "178786                OO     32.0      52.0    HDN  DEN       142\n",
      "2972767               CO    134.0      22.0    JAX  IAH       817\n",
      "...                  ...      ...       ...    ...  ...       ...\n",
      "3683895               WN     42.0      12.0    SAT  DAL       248\n",
      "858235                US     85.0      16.0    CLT  TPA       508\n",
      "2001715               OO     56.0       5.0    BUR  SFO       326\n",
      "931040                EV     99.0      -3.0    ATL  SYR       793\n",
      "1737123               B6    163.0     133.0    BUF  RSW      1144\n",
      "\n",
      "[199125 rows x 6 columns]\n"
     ]
    }
   ],
   "source": [
    "Reduced_DlydFlghts = DlydFlghts.loc[:, ['UniqueCarrier', 'AirTime', 'ArrDelay', 'Origin', 'Dest','Distance',]]\n",
    "print(Reduced_DlydFlghts)"
   ]
  },
  {
   "cell_type": "code",
   "execution_count": 34,
   "id": "944c2886",
   "metadata": {},
   "outputs": [
    {
     "data": {
      "text/plain": [
       "UniqueCarrier    0\n",
       "AirTime          0\n",
       "ArrDelay         0\n",
       "Origin           0\n",
       "Dest             0\n",
       "Distance         0\n",
       "dtype: int64"
      ]
     },
     "execution_count": 34,
     "metadata": {},
     "output_type": "execute_result"
    }
   ],
   "source": [
    "Reduced_DlydFlghts.isnull().sum()"
   ]
  },
  {
   "cell_type": "markdown",
   "id": "3a49824f",
   "metadata": {},
   "source": [
    "### Exercici 2"
   ]
  },
  {
   "cell_type": "markdown",
   "id": "c73ff3e0",
   "metadata": {},
   "source": [
    "Fes un informe complet del dataset:\n",
    "\n",
    "Resumeix estadísticament el dataset i les columnes d’interès. Fes una anàlisi estadístic del que consideris rellevant.\n",
    "Troba quantes dades faltants hi ha per columna.\n",
    "Crea columnes noves (velocitat mitjana del vol, si ha arribat tard o no...).\n",
    "Fes una taula de les aerolínies amb més endarreriments acumulats.\n",
    "Quins són els vols més llargs? I els més endarrerits? Busca les rutes més llargues i les que acumulen més retards.\n",
    "Aporta allò que consideris rellevant."
   ]
  },
  {
   "cell_type": "markdown",
   "id": "aef15cf8",
   "metadata": {},
   "source": [
    "    M'havia fixat en que no tenia els noms sencers de les arolínies i llocs d'origen/destí perquè hi son, llavors vaig haver de revisar i como es un format estandartizat (IATA) sembla que existia un paquet que feia això automàticament però ja no i vaig trobar un parell de CSV pero acompletar l'informació"
   ]
  },
  {
   "cell_type": "markdown",
   "id": "5fe4b742",
   "metadata": {},
   "source": [
    "    Trobar els noms de les aerolínies "
   ]
  },
  {
   "cell_type": "code",
   "execution_count": 11,
   "id": "ac7ed42a",
   "metadata": {
    "scrolled": true
   },
   "outputs": [
    {
     "name": "stdout",
     "output_type": "stream",
     "text": [
      "              0                1              2             3\n",
      "0     iata_code        icao_code           name         alias\n",
      "1            0B              BMS       Blue Air           NaN\n",
      "2            0C         Catovair            NaN          None\n",
      "3            0J   Premium Jet AG            NaN          None\n",
      "4            0O       STA Travel            NaN          None\n",
      "...         ...              ...            ...           ...\n",
      "1062         ZV              VAX          V Air           NaN\n",
      "1063         ZW              AWI  Air Wisconsin           NaN\n",
      "1064         ZX              GGN   Air Georgian  Air Alliance\n",
      "1065         ZY  China Air Cargo            NaN          None\n",
      "1066         ZZ  Airline Service            NaN          None\n",
      "\n",
      "[1067 rows x 4 columns]\n"
     ]
    }
   ],
   "source": [
    "import pandas as pd\n",
    "IATA_Airlines = pd.read_csv(r\"C:\\Users\\Patricia\\Downloads\\iata_airlines.csv\", sep=',', header=None, on_bad_lines='skip', engine='python')\n",
    "print(IATA_Airlines)"
   ]
  },
  {
   "cell_type": "code",
   "execution_count": 12,
   "id": "4c721905",
   "metadata": {},
   "outputs": [
    {
     "name": "stdout",
     "output_type": "stream",
     "text": [
      "Unnamed: 0\n",
      "6583804          Mesa Airlines\n",
      "1604365         Nwest Airlines\n",
      "1395655       SkyWest Airlines\n",
      "178786        SkyWest Airlines\n",
      "2972767             Cobalt Air\n",
      "                  ...         \n",
      "3683895     Southwest Airlines\n",
      "858235              US Airways\n",
      "2001715       SkyWest Airlines\n",
      "931040     ExpressJet Airlines\n",
      "1737123                JetBlue\n",
      "Name: AirlineName, Length: 199938, dtype: object\n"
     ]
    }
   ],
   "source": [
    "IATA_dict = dict(zip(IATA_Airlines[0], IATA_Airlines[2]))\n",
    "Reduced_DlydFlghts['AirlineName'] = Reduced_DlydFlghts.apply(lambda row: IATA_dict.get(row['UniqueCarrier']), axis=1)\n",
    "print(Reduced_DlydFlghts['AirlineName'])"
   ]
  },
  {
   "cell_type": "markdown",
   "id": "d42dd51f",
   "metadata": {},
   "source": [
    "    Trobar els noms dels aeroports"
   ]
  },
  {
   "cell_type": "code",
   "execution_count": 13,
   "id": "15f67e48",
   "metadata": {},
   "outputs": [],
   "source": [
    "IATA_Airports = pd.read_csv(r\"C:\\Users\\Patricia\\Downloads\\airport-codes.csv\", sep=',', header=None, on_bad_lines='skip', engine='python')"
   ]
  },
  {
   "cell_type": "code",
   "execution_count": 14,
   "id": "d7978007",
   "metadata": {},
   "outputs": [
    {
     "name": "stdout",
     "output_type": "stream",
     "text": [
      "Unnamed: 0\n",
      "6583804             Washington Dulles International Airport\n",
      "1604365                Chicago O'Hare International Airport\n",
      "1395655                Salt Lake City International Airport\n",
      "178786                                 Yampa Valley Airport\n",
      "2972767                  Jacksonville International Airport\n",
      "                                 ...                       \n",
      "3683895                   San Antonio International Airport\n",
      "858235              Charlotte Douglas International Airport\n",
      "2001715                                    Bob Hope Airport\n",
      "931040     Hartsfield Jackson Atlanta International Airport\n",
      "1737123               Buffalo Niagara International Airport\n",
      "Name: AirportOrigin, Length: 199938, dtype: object\n"
     ]
    }
   ],
   "source": [
    "IATA_dict = dict(zip(IATA_Airports[9], IATA_Airports[2]))\n",
    "Reduced_DlydFlghts['AirportOrigin'] = Reduced_DlydFlghts.apply(lambda row: IATA_dict.get(row['Origin']), axis=1) n\n",
    "print(Reduced_DlydFlghts['AirportOrigin'])"
   ]
  },
  {
   "cell_type": "code",
   "execution_count": 15,
   "id": "d1e4a781",
   "metadata": {},
   "outputs": [
    {
     "name": "stdout",
     "output_type": "stream",
     "text": [
      "Unnamed: 0\n",
      "6583804               Austin Bergstrom International Airport\n",
      "1604365    Minneapolis-St Paul International/Wold-Chamber...\n",
      "1395655                           Pocatello Regional Airport\n",
      "178786                          Denver International Airport\n",
      "2972767         George Bush Intercontinental Houston Airport\n",
      "                                 ...                        \n",
      "3683895                                    Dallas Love Field\n",
      "858235                           Tampa International Airport\n",
      "2001715                  San Francisco International Airport\n",
      "931040                Syracuse Hancock International Airport\n",
      "1737123              Southwest Florida International Airport\n",
      "Name: AirportDest, Length: 199938, dtype: object\n"
     ]
    }
   ],
   "source": [
    "IATA_dict = dict(zip(IATA_Airports[9], IATA_Airports[2]))\n",
    "Reduced_DlydFlghts['AirportDest'] = Reduced_DlydFlghts.apply(lambda row: IATA_dict.get(row['Dest']), axis=1)\n",
    "print(Reduced_DlydFlghts['AirportDest'])"
   ]
  },
  {
   "cell_type": "markdown",
   "id": "159acc28",
   "metadata": {},
   "source": [
    "    Ara simplement esborrem tot el que ja no vam necessitar"
   ]
  },
  {
   "cell_type": "code",
   "execution_count": 16,
   "id": "0a7596c4",
   "metadata": {},
   "outputs": [],
   "source": [
    "Reduced_DlydFlghts = Reduced_DlydFlghts.drop(['UniqueCarrier'], axis=1)"
   ]
  },
  {
   "cell_type": "markdown",
   "id": "3df66740",
   "metadata": {},
   "source": [
    "    També es podria haver eliminat Origin y Dest pero més endavant ens facilitarán la lectura"
   ]
  },
  {
   "cell_type": "markdown",
   "id": "f412ae23",
   "metadata": {},
   "source": [
    "___\n",
    "___"
   ]
  },
  {
   "cell_type": "markdown",
   "id": "37c4cb4c",
   "metadata": {},
   "source": [
    "Farem un petit resum estadístic del dataset"
   ]
  },
  {
   "cell_type": "code",
   "execution_count": 17,
   "id": "4d1aec4e",
   "metadata": {},
   "outputs": [
    {
     "name": "stdout",
     "output_type": "stream",
     "text": [
      "Resum estadístic:\n",
      "               AirTime       ArrDelay  Origin    Dest       Distance  \\\n",
      "count   199125.000000  199125.000000  199938  199938  199938.000000   \n",
      "unique            NaN            NaN     297     300            NaN   \n",
      "top               NaN            NaN     ATL     ORD            NaN   \n",
      "freq              NaN            NaN   13614   11127            NaN   \n",
      "mean       108.198157      42.370873     NaN     NaN     765.023282   \n",
      "std         68.471932      57.004632     NaN     NaN     572.880431   \n",
      "min          1.000000     -57.000000     NaN     NaN      11.000000   \n",
      "25%         58.000000       9.000000     NaN     NaN     340.000000   \n",
      "50%         90.000000      25.000000     NaN     NaN     608.000000   \n",
      "75%        137.000000      56.000000     NaN     NaN     998.000000   \n",
      "max        644.000000    2453.000000     NaN     NaN    4962.000000   \n",
      "\n",
      "               AirlineName                                     AirportOrigin  \\\n",
      "count               199867                                            199866   \n",
      "unique                  19                                               296   \n",
      "top     Southwest Airlines  Hartsfield Jackson Atlanta International Airport   \n",
      "freq                 39087                                             13614   \n",
      "mean                   NaN                                               NaN   \n",
      "std                    NaN                                               NaN   \n",
      "min                    NaN                                               NaN   \n",
      "25%                    NaN                                               NaN   \n",
      "50%                    NaN                                               NaN   \n",
      "75%                    NaN                                               NaN   \n",
      "max                    NaN                                               NaN   \n",
      "\n",
      "                                 AirportDest  \n",
      "count                                 199843  \n",
      "unique                                   299  \n",
      "top     Chicago O'Hare International Airport  \n",
      "freq                                   11127  \n",
      "mean                                     NaN  \n",
      "std                                      NaN  \n",
      "min                                      NaN  \n",
      "25%                                      NaN  \n",
      "50%                                      NaN  \n",
      "75%                                      NaN  \n",
      "max                                      NaN  \n"
     ]
    }
   ],
   "source": [
    "stsssumary = Reduced_DlydFlghts.describe(include='all')\n",
    "print('Resum estadístic:\\n', stsssumary)"
   ]
  },
  {
   "cell_type": "markdown",
   "id": "44087884",
   "metadata": {},
   "source": [
    "Volem saber quants nulls hi ha al dataset"
   ]
  },
  {
   "cell_type": "code",
   "execution_count": 18,
   "id": "58dfbd2c",
   "metadata": {},
   "outputs": [
    {
     "name": "stdout",
     "output_type": "stream",
     "text": [
      "AirTime          813\n",
      "ArrDelay         813\n",
      "Origin             0\n",
      "Dest               0\n",
      "Distance           0\n",
      "AirlineName       71\n",
      "AirportOrigin     72\n",
      "AirportDest       95\n",
      "dtype: int64\n"
     ]
    }
   ],
   "source": [
    "print(Reduced_DlydFlghts.isnull().sum())"
   ]
  },
  {
   "cell_type": "code",
   "execution_count": 19,
   "id": "a27f924a",
   "metadata": {},
   "outputs": [],
   "source": [
    "Reduced_DlydFlghts.dropna(inplace=True) #i ara els treiem"
   ]
  },
  {
   "cell_type": "markdown",
   "id": "2fbe69d5",
   "metadata": {},
   "source": [
    "Podem veure que les variables que tenen més quantitat de nuls són:\n",
    "\n",
    "    - ActualElapsedTime\n",
    "    - Airtime "
   ]
  },
  {
   "cell_type": "markdown",
   "id": "7fa75717",
   "metadata": {},
   "source": [
    "Ara crearem una nova columna amb la velocitat mitjana de vol, per a poder tenir clar les unitas vaig revisar la distància entre els aeroports"
   ]
  },
  {
   "cell_type": "code",
   "execution_count": 20,
   "id": "f956eb12",
   "metadata": {},
   "outputs": [
    {
     "name": "stdout",
     "output_type": "stream",
     "text": [
      "Unnamed: 0\n",
      "6583804    707.564061\n",
      "1604365    586.384975\n",
      "1395655    329.183182\n",
      "178786     428.486775\n",
      "2972767    588.730200\n",
      "              ...    \n",
      "3683895    570.166171\n",
      "858235     577.090391\n",
      "2001715    562.119471\n",
      "931040     773.458558\n",
      "1737123    677.699985\n",
      "Name: KmHour, Length: 198888, dtype: float64\n"
     ]
    }
   ],
   "source": [
    "Reduced_DlydFlghts.loc[:, \"KmHour\"] = Reduced_DlydFlghts[\"Distance\"] / Reduced_DlydFlghts[\"AirTime\"] * 60 * 1.60934\n",
    "print(Reduced_DlydFlghts['KmHour']) #Aquesta columna seria kilòmetres per hora"
   ]
  },
  {
   "cell_type": "markdown",
   "id": "08630fd7",
   "metadata": {},
   "source": [
    "Ara revisarem quines son les aerolínes amb més retrasos.\n",
    "Veiem que les aerolínes amb més retrasos totals son Southwest, American Airlines y Envoy Air en aquest ordre"
   ]
  },
  {
   "cell_type": "code",
   "execution_count": 21,
   "id": "1ccccd78",
   "metadata": {},
   "outputs": [
    {
     "name": "stdout",
     "output_type": "stream",
     "text": [
      "             AirlineName  ArrDelay\n",
      "16    Southwest Airlines     33618\n",
      "2      American Airlines     17631\n",
      "7              Envoy Air     13507\n",
      "18       United Airlines     12854\n",
      "15      SkyWest Airlines     12687\n",
      "4        Delta Air Lines     10458\n",
      "5   Delux Public Charter      9839\n",
      "3             Cobalt Air      8736\n",
      "17            US Airways      8682\n",
      "8    ExpressJet Airlines      7772\n",
      "13        Nwest Airlines      7325\n",
      "0        Airtran Airways      6646\n",
      "12         Mesa Airlines      6568\n",
      "11               JetBlue      4990\n",
      "14          PSA Airlines      4989\n",
      "6           Endeavor Air      4636\n",
      "1        Alaska Airlines      3520\n",
      "9      Frontier Airlines      2738\n",
      "10     Hawaiian Airlines       740\n"
     ]
    }
   ],
   "source": [
    "print(Reduced_DlydFlghts.groupby('AirlineName')[['ArrDelay']].apply(lambda x: (x > 0).sum()).reset_index().sort_values('ArrDelay', ascending=False))"
   ]
  },
  {
   "cell_type": "markdown",
   "id": "fa5b6a02",
   "metadata": {},
   "source": [
    "Ara mirarem quins vols tenen retrasos, per això crearem una nova columna booleana on True serà que hi ha van haver retrasos ja sigui en la sortida o arribada i False que no"
   ]
  },
  {
   "cell_type": "code",
   "execution_count": 22,
   "id": "57ef13c4",
   "metadata": {},
   "outputs": [
    {
     "name": "stdout",
     "output_type": "stream",
     "text": [
      "Unnamed: 0\n",
      "6583804     True\n",
      "1604365     True\n",
      "1395655     True\n",
      "178786      True\n",
      "2972767     True\n",
      "           ...  \n",
      "3683895     True\n",
      "858235      True\n",
      "2001715     True\n",
      "931040     False\n",
      "1737123     True\n",
      "Name: Delay, Length: 198888, dtype: bool\n"
     ]
    }
   ],
   "source": [
    "Reduced_DlydFlghts['Delay'] = Reduced_DlydFlghts.apply(lambda row: row['ArrDelay'] > 0, axis=1)\n",
    "print(Reduced_DlydFlghts['Delay'])"
   ]
  },
  {
   "cell_type": "code",
   "execution_count": 24,
   "id": "2a28888a",
   "metadata": {},
   "outputs": [
    {
     "name": "stdout",
     "output_type": "stream",
     "text": [
      "True     177936\n",
      "False     20952\n",
      "Name: Delay, dtype: int64\n"
     ]
    }
   ],
   "source": [
    "print(Reduced_DlydFlghts['Delay'].value_counts())"
   ]
  },
  {
   "cell_type": "markdown",
   "id": "011cd354",
   "metadata": {},
   "source": [
    "¿Com sabem quins van ser els vols més llargs? Vaig recuperar Origin i Dest perquè resultava il·legible ambs els noms sencers dels aeroports, veiem aeroport d'origen, aeroport de destí i el temps de vol en minuts"
   ]
  },
  {
   "cell_type": "code",
   "execution_count": 23,
   "id": "92f1e69d",
   "metadata": {},
   "outputs": [
    {
     "name": "stdout",
     "output_type": "stream",
     "text": [
      "Origin  Dest\n",
      "SFO     JFK     75904.0\n",
      "LAX     JFK     73515.0\n",
      "JFK     LAX     72830.0\n",
      "        SFO     66446.0\n",
      "ORD     LAX     64596.0\n",
      "LAX     ORD     60502.0\n",
      "ORD     SFO     60340.0\n",
      "EWR     LAX     54330.0\n",
      "ATL     LAX     52591.0\n",
      "EWR     SFO     47329.0\n",
      "        IAH     47292.0\n",
      "DFW     LGA     46913.0\n",
      "SFO     ORD     46301.0\n",
      "LAX     HNL     46104.0\n",
      "ATL     LGA     45271.0\n",
      "Name: AirTime, dtype: float64\n"
     ]
    }
   ],
   "source": [
    "route_long_time = Reduced_DlydFlghts.groupby(['Origin', 'Dest'])['AirTime'].sum()\n",
    "sorted_routes = route_long_time.sort_values(ascending=False)\n",
    "print(sorted_routes.head(15))"
   ]
  },
  {
   "cell_type": "markdown",
   "id": "25d40852",
   "metadata": {},
   "source": [
    "Per mirar quines son les rutes amb més retrasos farem el mateix però hem de canviar els noms de les variables i quina columna haurem de sumar"
   ]
  },
  {
   "cell_type": "code",
   "execution_count": 24,
   "id": "94d7aadb",
   "metadata": {},
   "outputs": [
    {
     "name": "stdout",
     "output_type": "stream",
     "text": [
      "Origin  Dest\n",
      "LAX     SFO     429\n",
      "SFO     LAX     394\n",
      "ORD     LGA     391\n",
      "ATL     LGA     378\n",
      "HOU     DAL     346\n",
      "LAS     LAX     315\n",
      "ORD     EWR     314\n",
      "ATL     EWR     305\n",
      "LGA     ATL     296\n",
      "PHX     LAS     295\n",
      "ORD     DFW     295\n",
      "DFW     ORD     291\n",
      "ATL     DFW     289\n",
      "LAX     LAS     288\n",
      "LGA     ORD     279\n",
      "Name: Delay, dtype: int64\n"
     ]
    }
   ],
   "source": [
    "route_delay = Reduced_DlydFlghts.groupby(['Origin', 'Dest'])['Delay'].sum()\n",
    "sorted_routesdelay = route_delay.sort_values(ascending=False)\n",
    "print(sorted_routesdelay.head(15))"
   ]
  },
  {
   "cell_type": "markdown",
   "id": "47b136e0",
   "metadata": {},
   "source": [
    "Les rutes amb mès retrasos son LAX-SFO (Los Ángeles - San Francisco), SFO-LAX (San Francisco - Los Ángeles) y ORD-LGA (Chicago - Nova York) en aquest ordre"
   ]
  },
  {
   "cell_type": "markdown",
   "id": "cb76f20f",
   "metadata": {},
   "source": [
    "### Exercici 3"
   ]
  },
  {
   "cell_type": "markdown",
   "id": "781303b8",
   "metadata": {},
   "source": [
    "Exporta el dataset net i amb les noves columnes a Excel."
   ]
  },
  {
   "cell_type": "markdown",
   "id": "4a087920",
   "metadata": {},
   "source": [
    "Farem una ultima ullada al nostre dataset per estar segurs de que tot està en ordre"
   ]
  },
  {
   "cell_type": "code",
   "execution_count": 25,
   "id": "17aaf3d4",
   "metadata": {},
   "outputs": [
    {
     "name": "stdout",
     "output_type": "stream",
     "text": [
      "            AirTime  ArrDelay Origin Dest  Distance          AirlineName  \\\n",
      "Unnamed: 0                                                                 \n",
      "6583804       177.0      71.0    IAD  AUS      1297        Mesa Airlines   \n",
      "1604365        55.0     548.0    ORD  MSP       334       Nwest Airlines   \n",
      "1395655        44.0       9.0    SLC  PIH       150     SkyWest Airlines   \n",
      "178786         32.0      52.0    HDN  DEN       142     SkyWest Airlines   \n",
      "2972767       134.0      22.0    JAX  IAH       817           Cobalt Air   \n",
      "...             ...       ...    ...  ...       ...                  ...   \n",
      "3683895        42.0      12.0    SAT  DAL       248   Southwest Airlines   \n",
      "858235         85.0      16.0    CLT  TPA       508           US Airways   \n",
      "2001715        56.0       5.0    BUR  SFO       326     SkyWest Airlines   \n",
      "931040         99.0      -3.0    ATL  SYR       793  ExpressJet Airlines   \n",
      "1737123       163.0     133.0    BUF  RSW      1144              JetBlue   \n",
      "\n",
      "                                               AirportOrigin  \\\n",
      "Unnamed: 0                                                     \n",
      "6583804              Washington Dulles International Airport   \n",
      "1604365                 Chicago O'Hare International Airport   \n",
      "1395655                 Salt Lake City International Airport   \n",
      "178786                                  Yampa Valley Airport   \n",
      "2972767                   Jacksonville International Airport   \n",
      "...                                                      ...   \n",
      "3683895                    San Antonio International Airport   \n",
      "858235               Charlotte Douglas International Airport   \n",
      "2001715                                     Bob Hope Airport   \n",
      "931040      Hartsfield Jackson Atlanta International Airport   \n",
      "1737123                Buffalo Niagara International Airport   \n",
      "\n",
      "                                                  AirportDest      KmHour  \\\n",
      "Unnamed: 0                                                                  \n",
      "6583804                Austin Bergstrom International Airport  707.564061   \n",
      "1604365     Minneapolis-St Paul International/Wold-Chamber...  586.384975   \n",
      "1395655                            Pocatello Regional Airport  329.183182   \n",
      "178786                           Denver International Airport  428.486775   \n",
      "2972767          George Bush Intercontinental Houston Airport  588.730200   \n",
      "...                                                       ...         ...   \n",
      "3683895                                     Dallas Love Field  570.166171   \n",
      "858235                            Tampa International Airport  577.090391   \n",
      "2001715                   San Francisco International Airport  562.119471   \n",
      "931040                 Syracuse Hancock International Airport  773.458558   \n",
      "1737123               Southwest Florida International Airport  677.699985   \n",
      "\n",
      "            Delay  \n",
      "Unnamed: 0         \n",
      "6583804      True  \n",
      "1604365      True  \n",
      "1395655      True  \n",
      "178786       True  \n",
      "2972767      True  \n",
      "...           ...  \n",
      "3683895      True  \n",
      "858235       True  \n",
      "2001715      True  \n",
      "931040      False  \n",
      "1737123      True  \n",
      "\n",
      "[199938 rows x 10 columns]\n"
     ]
    }
   ],
   "source": [
    "print(Reduced_DlydFlghts)"
   ]
  },
  {
   "cell_type": "markdown",
   "id": "f5ace4e5",
   "metadata": {},
   "source": [
    "    vist així podem treure ja Origin i Dest on son els codis AITA"
   ]
  },
  {
   "cell_type": "code",
   "execution_count": 26,
   "id": "3ffb3b89",
   "metadata": {},
   "outputs": [],
   "source": [
    "Reduced_DlydFlghts = Reduced_DlydFlghts.drop(['Origin','Dest'], axis=1)"
   ]
  },
  {
   "cell_type": "markdown",
   "id": "4221f999",
   "metadata": {},
   "source": [
    "i ho exportem a format xlsx"
   ]
  },
  {
   "cell_type": "code",
   "execution_count": 32,
   "id": "c7c6d002",
   "metadata": {},
   "outputs": [],
   "source": [
    "Reduced_DlydFlghts.to_excel('DelayedFlights.xlsx', index=False)"
   ]
  }
 ],
 "metadata": {
  "kernelspec": {
   "display_name": "Python 3 (ipykernel)",
   "language": "python",
   "name": "python3"
  },
  "language_info": {
   "codemirror_mode": {
    "name": "ipython",
    "version": 3
   },
   "file_extension": ".py",
   "mimetype": "text/x-python",
   "name": "python",
   "nbconvert_exporter": "python",
   "pygments_lexer": "ipython3",
   "version": "3.9.13"
  }
 },
 "nbformat": 4,
 "nbformat_minor": 5
}
