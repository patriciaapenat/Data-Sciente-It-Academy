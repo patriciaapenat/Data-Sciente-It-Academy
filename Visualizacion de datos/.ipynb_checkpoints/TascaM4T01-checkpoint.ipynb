{
 "cells": [
  {
   "cell_type": "markdown",
   "id": "1a37dbf9",
   "metadata": {},
   "source": [
    "# Exercici 1"
   ]
  },
  {
   "cell_type": "markdown",
   "id": "6c4665d9",
   "metadata": {},
   "source": [
    "Descarrega el dataset adjunt preu lloguer per trimestre i barri.csv extret de la web OpenDataBCN i resumeix-lo estadísticament i gràficament.\n",
    "\n",
    "Crea almenys una visualització per:\n",
    "\n",
    "Una variable categòrica (Districte o Barri)\n",
    "Una variable numèrica (Preu)\n",
    "Una variable numèrica i una categòrica (Districte i Preu)\n",
    "Dues variables numèriques (Any o Trimestre i Preu)\n",
    "Tres variables (Barri o Districte, Trimestre i Preu)"
   ]
  },
  {
   "cell_type": "code",
   "execution_count": 2,
   "id": "0b0602ea",
   "metadata": {},
   "outputs": [],
   "source": [
    "import pandas as pd"
   ]
  },
  {
   "cell_type": "code",
   "execution_count": 1,
   "id": "fe295886",
   "metadata": {},
   "outputs": [
    {
     "ename": "NameError",
     "evalue": "name 'pd' is not defined",
     "output_type": "error",
     "traceback": [
      "\u001b[1;31m---------------------------------------------------------------------------\u001b[0m",
      "\u001b[1;31mNameError\u001b[0m                                 Traceback (most recent call last)",
      "Cell \u001b[1;32mIn[1], line 1\u001b[0m\n\u001b[1;32m----> 1\u001b[0m \u001b[43mpd\u001b[49m\u001b[38;5;241m.\u001b[39mread\u001b[38;5;241m.\u001b[39mcsv (\u001b[38;5;124m'\u001b[39m\u001b[38;5;124mDownloads/preu lloguer per trimestre i barri)\u001b[39m\u001b[38;5;124m'\u001b[39m)\n",
      "\u001b[1;31mNameError\u001b[0m: name 'pd' is not defined"
     ]
    }
   ],
   "source": [
    "pd.read.csv ('Downloads/preu lloguer per trimestre i barri)')"
   ]
  },
  {
   "cell_type": "markdown",
   "id": "2882c796",
   "metadata": {},
   "source": [
    "# Exercici 2"
   ]
  },
  {
   "cell_type": "markdown",
   "id": "391acb41",
   "metadata": {},
   "source": [
    "Exporta els gràfics com imatges o com HTML."
   ]
  },
  {
   "cell_type": "markdown",
   "id": "fdeea31c",
   "metadata": {},
   "source": [
    "# Exercici 3"
   ]
  },
  {
   "cell_type": "markdown",
   "id": "013beab0",
   "metadata": {},
   "source": [
    "Proposa alguna visualització que creguis que pot resultar interessant"
   ]
  }
 ],
 "metadata": {
  "kernelspec": {
   "display_name": "Python 3 (ipykernel)",
   "language": "python",
   "name": "python3"
  },
  "language_info": {
   "codemirror_mode": {
    "name": "ipython",
    "version": 3
   },
   "file_extension": ".py",
   "mimetype": "text/x-python",
   "name": "python",
   "nbconvert_exporter": "python",
   "pygments_lexer": "ipython3",
   "version": "3.9.13"
  }
 },
 "nbformat": 4,
 "nbformat_minor": 5
}
